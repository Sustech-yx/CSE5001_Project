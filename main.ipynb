{
 "cells": [
  {
   "cell_type": "code",
   "execution_count": 1,
   "metadata": {},
   "outputs": [],
   "source": [
    "from alg.simple import SimpleAlgorithm\n",
    "from alg.fuzzy import FuzzyAlgorithm\n",
    "from alg.IRM import IRM_CNN, IRM_MLP\n",
    "from data.dataset import MNISTDataset\n",
    "import torch\n",
    "from torch.utils.data import DataLoader\n",
    "import numpy as npy\n",
    "from tqdm import tqdm\n",
    "from utils import visial\n",
    "import matplotlib.pyplot as plt\n",
    "\n",
    "import torch\n",
    "import numpy as np\n",
    "import random\n",
    "import os\n",
    " \n",
    "def setup_seed(seed=3407):\n",
    "    random.seed(seed)  # Python的随机性\n",
    "    os.environ['PYTHONHASHSEED'] = str(seed)  # 设置Python哈希种子，为了禁止hash随机化，使得实验可复现\n",
    "    np.random.seed(seed)  # numpy的随机性\n",
    "    torch.manual_seed(seed)  # torch的CPU随机性，为CPU设置随机种子\n",
    "    torch.cuda.manual_seed(seed)  # torch的GPU随机性，为当前GPU设置随机种子\n",
    "    torch.cuda.manual_seed_all(seed)  # if you are using multi-GPU.   torch的GPU随机性，为所有GPU设置随机种子\n",
    "    torch.backends.cudnn.deterministic = True # 选择确定性算法\n",
    "    torch.backends.cudnn.benchmark = False # if benchmark=True, deterministic will be False\n",
    "    torch.backends.cudnn.enabled = False\n",
    "setup_seed(3407)\n",
    "\n",
    "train_dataset = MNISTDataset(\"./processed_data\", \"train\")\n",
    "val_dataset = MNISTDataset(\"./processed_data\", \"val\")\n",
    "test_dataset = MNISTDataset(\"./processed_data\", \"test\")\n",
    "\n",
    "train_loader = DataLoader(dataset=train_dataset, batch_size=64, shuffle=True, num_workers=4)\n",
    "val_loader = DataLoader(dataset=val_dataset, batch_size=64, shuffle=True, num_workers=4)\n",
    "test_loader = DataLoader(dataset=test_dataset, batch_size=64, shuffle=False, num_workers=4)"
   ]
  },
  {
   "cell_type": "code",
   "execution_count": 3,
   "metadata": {},
   "outputs": [
    {
     "name": "stderr",
     "output_type": "stream",
     "text": [
      "100%|█████████████████████████████████████████████████████████████████████████████████████████████████████████████████████████████████████████████████████████████████████████| 938/938 [00:20<00:00, 46.68it/s]\n"
     ]
    },
    {
     "name": "stdout",
     "output_type": "stream",
     "text": [
      "Accuracy on the val set: 76 %\n"
     ]
    },
    {
     "name": "stderr",
     "output_type": "stream",
     "text": [
      "100%|█████████████████████████████████████████████████████████████████████████████████████████████████████████████████████████████████████████████████████████████████████████| 938/938 [00:20<00:00, 46.36it/s]\n"
     ]
    },
    {
     "name": "stdout",
     "output_type": "stream",
     "text": [
      "Accuracy on the val set: 77 %\n"
     ]
    },
    {
     "name": "stderr",
     "output_type": "stream",
     "text": [
      "100%|█████████████████████████████████████████████████████████████████████████████████████████████████████████████████████████████████████████████████████████████████████████| 938/938 [00:23<00:00, 40.63it/s]\n"
     ]
    },
    {
     "name": "stdout",
     "output_type": "stream",
     "text": [
      "Accuracy on the val set: 77 %\n"
     ]
    },
    {
     "name": "stderr",
     "output_type": "stream",
     "text": [
      "100%|█████████████████████████████████████████████████████████████████████████████████████████████████████████████████████████████████████████████████████████████████████████| 938/938 [00:22<00:00, 41.03it/s]\n"
     ]
    },
    {
     "name": "stdout",
     "output_type": "stream",
     "text": [
      "Accuracy on the val set: 77 %\n"
     ]
    },
    {
     "name": "stderr",
     "output_type": "stream",
     "text": [
      "100%|█████████████████████████████████████████████████████████████████████████████████████████████████████████████████████████████████████████████████████████████████████████| 938/938 [00:24<00:00, 38.16it/s]\n"
     ]
    },
    {
     "name": "stdout",
     "output_type": "stream",
     "text": [
      "Accuracy on the val set: 77 %\n"
     ]
    }
   ],
   "source": [
    "alg_sim = SimpleAlgorithm()\n",
    "epochs = 5\n",
    "loss_record = []\n",
    "acc_record = []\n",
    "for epoch in range(epochs):\n",
    "    loss_record.extend(list(alg_sim.train(train_loader)))\n",
    "    wrong_pred,acc,_ = alg_sim.evaluate(val_loader)\n",
    "    acc_record.append(acc)\n",
    "# print(wrong_pred)"
   ]
  },
  {
   "cell_type": "code",
   "execution_count": 10,
   "metadata": {},
   "outputs": [],
   "source": [
    "# loss_record\n",
    "# loss_record = loss_record[0]\n",
    "loss_record1 = list(map(float, loss_record))"
   ]
  },
  {
   "cell_type": "code",
   "execution_count": 11,
   "metadata": {},
   "outputs": [
    {
     "data": {
      "image/png": "[encoded data removed]",
      "text/plain": [
       "<Figure size 640x480 with 1 Axes>"
      ]
     },
     "metadata": {},
     "output_type": "display_data"
    }
   ],
   "source": [
    "plt.plot(loss_record1, 'b', label='Training Loss')\n",
    "plt.title('Training Loss over Epochs')\n",
    "# plt.xlabel('Epochs')\n",
    "plt.ylabel('Loss')\n",
    "plt.legend()\n",
    "# plt.show()\n",
    "plt.savefig(\"5.png\", dpi=1200)"
   ]
  },
  {
   "cell_type": "code",
   "execution_count": 12,
   "metadata": {},
   "outputs": [
    {
     "data": {
      "image/png": "[encoded data removed]",
      "text/plain": [
       "<Figure size 640x480 with 1 Axes>"
      ]
     },
     "metadata": {},
     "output_type": "display_data"
    }
   ],
   "source": [
    "plt.plot(acc_record, 'b', label='Validation Accuracy')\n",
    "plt.title('Accuracy over 20 Epochs')\n",
    "# plt.xlabel('Epochs')\n",
    "plt.ylabel('Accuracy')\n",
    "plt.legend()\n",
    "# plt.show()\n",
    "plt.savefig(\"6.png\", dpi=1200)"
   ]
  },
  {
   "cell_type": "code",
   "execution_count": 34,
   "metadata": {},
   "outputs": [
    {
     "name": "stdout",
     "output_type": "stream",
     "text": [
      "[0.6432, 0.6354, 0.6875, 0.6864, 0.7085, 0.6738, 0.6497, 0.6776, 0.6748, 0.7203, 0.7143, 0.7088, 0.6951, 0.6957, 0.6829, 0.6925, 0.6936, 0.7137]\n"
     ]
    },
    {
     "data": {
      "image/png": "[encoded data removed]",
      "text/plain": [
       "<Figure size 640x480 with 1 Axes>"
      ]
     },
     "metadata": {},
     "output_type": "display_data"
    }
   ],
   "source": [
    "text = \"\"\"\n",
    "0.6432\n",
    "0.6354\n",
    "0.6875\n",
    "0.6864\n",
    "0.7085\n",
    "0.6738\n",
    "0.6497\n",
    "0.6776\n",
    "0.6748\n",
    "0.7203\n",
    "0.7143\n",
    "0.7088\n",
    "0.6951\n",
    "0.6957\n",
    "0.6829\n",
    "0.6925\n",
    "0.6936\n",
    "0.7137\n",
    "\"\"\"\n",
    "print(list(map(float, text.split())))\n",
    "\n",
    "plt.plot(list(map(float, text.split())), 'b', label='Validation Accuracy')\n",
    "plt.title(prefix + 'Accuracy over Epochs')\n",
    "plt.xlabel('Epochs')\n",
    "plt.ylabel('Accuracy')\n",
    "plt.legend()\n",
    "# plt.show()\n",
    "plt.savefig(\"{}.png\".format(str(cnt), dpi=1200))\n",
    "cnt += 1"
   ]
  },
  {
   "cell_type": "code",
   "execution_count": 31,
   "metadata": {},
   "outputs": [],
   "source": [
    "# cnt = 13\n",
    "prefix = \"Use DRO to learn a robust source classifier: \""
   ]
  },
  {
   "cell_type": "code",
   "execution_count": 32,
   "metadata": {},
   "outputs": [
    {
     "data": {
      "image/png": "[encoded data removed]",
      "text/plain": [
       "<Figure size 640x480 with 1 Axes>"
      ]
     },
     "metadata": {},
     "output_type": "display_data"
    }
   ],
   "source": [
    "text1 = \"\"\"\n",
    "0.4231\n",
    "0.5609\n",
    "0.5751\n",
    "0.5955\n",
    "0.5917\n",
    "0.5996\n",
    "0.5999\n",
    "0.6039\n",
    "0.6044\n",
    "0.6127\n",
    "0.6229\n",
    "0.6241\n",
    "0.6243\n",
    "0.6244\n",
    "0.6184\n",
    "0.6273\n",
    "0.6238\n",
    "0.6325\n",
    "\"\"\"\n",
    "text2 = \"\"\"\n",
    "0.3248\n",
    "0.4494\n",
    "0.4764\n",
    "0.4968\n",
    "0.5012\n",
    "0.5098\n",
    "0.5074\n",
    "0.5250\n",
    "0.5240\n",
    "0.5336\n",
    "0.5234\n",
    "0.5280\n",
    "0.5462\n",
    "0.5304\n",
    "0.5402\n",
    "0.5398\n",
    "0.5408\n",
    "0.5414\n",
    "\"\"\"\n",
    "# print(list(map(float, text.split())))\n",
    "\n",
    "plt.plot(list(map(float, text1.split())), 'b', label='Average Training Accuracy')\n",
    "plt.plot(list(map(float, text2.split())), 'r', label='Worst Training Accuracy')\n",
    "plt.title(prefix + 'Accuracy over Epochs')\n",
    "plt.xlabel('Epochs')\n",
    "plt.ylabel('Accuracy')\n",
    "plt.legend()\n",
    "# plt.show()\n",
    "plt.savefig(\"{}.png\".format(str(cnt), dpi=1200))\n",
    "cnt += 1"
   ]
  },
  {
   "cell_type": "code",
   "execution_count": 33,
   "metadata": {},
   "outputs": [
    {
     "name": "stdout",
     "output_type": "stream",
     "text": [
      "[0.8876, 0.8892, 0.8706, 0.8612, 0.8842, 0.8768, 0.8656]\n"
     ]
    },
    {
     "data": {
      "image/png": "[encoded data removed]",
      "text/plain": [
       "<Figure size 640x480 with 1 Axes>"
      ]
     },
     "metadata": {},
     "output_type": "display_data"
    }
   ],
   "source": [
    "text1 = \"\"\"\n",
    "1.9007\n",
    "1.6190\n",
    "1.5788\n",
    "1.5289\n",
    "1.5261\n",
    "1.5072\n",
    "1.4987\n",
    "1.4966\n",
    "1.4855\n",
    "1.4721\n",
    "1.4444\n",
    "1.4414\n",
    "1.4537\n",
    "1.4490\n",
    "1.4560\n",
    "1.4426\n",
    "1.4497\n",
    "1.4121\n",
    "\"\"\"\n",
    "text2 = \"\"\"\n",
    "2.0392\n",
    "1.8333\n",
    "1.7787\n",
    "1.7555\n",
    "1.7183\n",
    "1.7244\n",
    "1.7243\n",
    "1.7022\n",
    "1.6748\n",
    "1.6652\n",
    "1.6761\n",
    "1.6545\n",
    "1.6649\n",
    "1.6593\n",
    "1.6422\n",
    "1.6476\n",
    "1.6506\n",
    "1.6262\n",
    "\"\"\"\n",
    "print(list(map(float, text.split())))\n",
    "\n",
    "plt.plot(list(map(float, text1.split())), 'b', label='Average Training Loss')\n",
    "plt.plot(list(map(float, text2.split())), 'r', label='Worst Training Loss')\n",
    "plt.title(prefix + 'Loss over Epochs')\n",
    "plt.xlabel('Epochs')\n",
    "plt.ylabel('Loss')\n",
    "plt.legend()\n",
    "# plt.show()\n",
    "plt.savefig(\"{}.png\".format(str(cnt), dpi=1200))\n",
    "cnt += 1"
   ]
  },
  {
   "cell_type": "code",
   "execution_count": 5,
   "metadata": {
    "collapsed": true
   },
   "outputs": [
    {
     "name": "stdout",
     "output_type": "stream",
     "text": [
      "pred label:  tensor(1) ,  true_label tensor(8)\n"
     ]
    },
    {
     "data": {
      "image/png": "[encoded data removed]",
      "text/plain": [
       "<Figure size 640x480 with 1 Axes>"
      ]
     },
     "metadata": {},
     "output_type": "display_data"
    },
    {
     "name": "stdout",
     "output_type": "stream",
     "text": [
      "pred label:  tensor(6) ,  true_label tensor(1)\n"
     ]
    },
    {
     "data": {
      "image/png": "[encoded data removed]",
      "text/plain": [
       "<Figure size 640x480 with 1 Axes>"
      ]
     },
     "metadata": {},
     "output_type": "display_data"
    },
    {
     "name": "stdout",
     "output_type": "stream",
     "text": [
      "pred label:  tensor(1) ,  true_label tensor(9)\n"
     ]
    },
    {
     "data": {
      "image/png": "[encoded data removed]",
      "text/plain": [
       "<Figure size 640x480 with 1 Axes>"
      ]
     },
     "metadata": {},
     "output_type": "display_data"
    },
    {
     "name": "stdout",
     "output_type": "stream",
     "text": [
      "pred label:  tensor(8) ,  true_label tensor(5)\n"
     ]
    },
    {
     "data": {
      "image/png": "[encoded data removed]",
      "text/plain": [
       "<Figure size 640x480 with 1 Axes>"
      ]
     },
     "metadata": {},
     "output_type": "display_data"
    },
    {
     "name": "stdout",
     "output_type": "stream",
     "text": [
      "pred label:  tensor(3) ,  true_label tensor(2)\n"
     ]
    },
    {
     "data": {
      "image/png": "[encoded data removed]",
      "text/plain": [
       "<Figure size 640x480 with 1 Axes>"
      ]
     },
     "metadata": {},
     "output_type": "display_data"
    },
    {
     "name": "stdout",
     "output_type": "stream",
     "text": [
      "pred label:  tensor(8) ,  true_label tensor(9)\n"
     ]
    },
    {
     "data": {
      "image/png": "[encoded data removed]",
      "text/plain": [
       "<Figure size 640x480 with 1 Axes>"
      ]
     },
     "metadata": {},
     "output_type": "display_data"
    },
    {
     "name": "stdout",
     "output_type": "stream",
     "text": [
      "pred label:  tensor(6) ,  true_label tensor(7)\n"
     ]
    },
    {
     "data": {
      "image/png": "[encoded data removed]",
      "text/plain": [
       "<Figure size 640x480 with 1 Axes>"
      ]
     },
     "metadata": {},
     "output_type": "display_data"
    },
    {
     "name": "stdout",
     "output_type": "stream",
     "text": [
      "pred label:  tensor(7) ,  true_label tensor(1)\n"
     ]
    },
    {
     "data": {
      "image/png": "[encoded data removed]",
      "text/plain": [
       "<Figure size 640x480 with 1 Axes>"
      ]
     },
     "metadata": {},
     "output_type": "display_data"
    },
    {
     "name": "stdout",
     "output_type": "stream",
     "text": [
      "pred label:  tensor(1) ,  true_label tensor(6)\n"
     ]
    },
    {
     "data": {
      "image/png": "[encoded data removed]",
      "text/plain": [
       "<Figure size 640x480 with 1 Axes>"
      ]
     },
     "metadata": {},
     "output_type": "display_data"
    },
    {
     "name": "stdout",
     "output_type": "stream",
     "text": [
      "pred label:  tensor(0) ,  true_label tensor(9)\n"
     ]
    },
    {
     "data": {
      "image/png": "[encoded data removed]",
      "text/plain": [
       "<Figure size 640x480 with 1 Axes>"
      ]
     },
     "metadata": {},
     "output_type": "display_data"
    },
    {
     "name": "stdout",
     "output_type": "stream",
     "text": [
      "pred label:  tensor(8) ,  true_label tensor(7)\n"
     ]
    },
    {
     "data": {
      "image/png": "[encoded data removed]",
      "text/plain": [
       "<Figure size 640x480 with 1 Axes>"
      ]
     },
     "metadata": {},
     "output_type": "display_data"
    },
    {
     "name": "stdout",
     "output_type": "stream",
     "text": [
      "pred label:  tensor(4) ,  true_label tensor(5)\n"
     ]
    },
    {
     "data": {
      "image/png": "[encoded data removed]",
      "text/plain": [
       "<Figure size 640x480 with 1 Axes>"
      ]
     },
     "metadata": {},
     "output_type": "display_data"
    },
    {
     "name": "stdout",
     "output_type": "stream",
     "text": [
      "pred label:  tensor(1) ,  true_label tensor(6)\n"
     ]
    },
    {
     "data": {
      "image/png": "[encoded data removed]",
      "text/plain": [
       "<Figure size 640x480 with 1 Axes>"
      ]
     },
     "metadata": {},
     "output_type": "display_data"
    },
    {
     "name": "stdout",
     "output_type": "stream",
     "text": [
      "pred label:  tensor(4) ,  true_label tensor(5)\n"
     ]
    },
    {
     "data": {
      "image/png": "[encoded data removed]",
      "text/plain": [
       "<Figure size 640x480 with 1 Axes>"
      ]
     },
     "metadata": {},
     "output_type": "display_data"
    },
    {
     "name": "stdout",
     "output_type": "stream",
     "text": [
      "pred label:  tensor(4) ,  true_label tensor(7)\n"
     ]
    },
    {
     "data": {
      "image/png": "[encoded data removed]",
      "text/plain": [
       "<Figure size 640x480 with 1 Axes>"
      ]
     },
     "metadata": {},
     "output_type": "display_data"
    },
    {
     "name": "stdout",
     "output_type": "stream",
     "text": [
      "pred label:  tensor(3) ,  true_label tensor(9)\n"
     ]
    },
    {
     "data": {
      "image/png": "[encoded data removed]",
      "text/plain": [
       "<Figure size 640x480 with 1 Axes>"
      ]
     },
     "metadata": {},
     "output_type": "display_data"
    },
    {
     "name": "stdout",
     "output_type": "stream",
     "text": [
      "pred label:  tensor(2) ,  true_label tensor(5)\n"
     ]
    },
    {
     "data": {
      "image/png": "[encoded data removed]",
      "text/plain": [
       "<Figure size 640x480 with 1 Axes>"
      ]
     },
     "metadata": {},
     "output_type": "display_data"
    },
    {
     "name": "stdout",
     "output_type": "stream",
     "text": [
      "pred label:  tensor(3) ,  true_label tensor(0)\n"
     ]
    },
    {
     "data": {
      "image/png": "[encoded data removed]",
      "text/plain": [
       "<Figure size 640x480 with 1 Axes>"
      ]
     },
     "metadata": {},
     "output_type": "display_data"
    },
    {
     "name": "stdout",
     "output_type": "stream",
     "text": [
      "pred label:  tensor(2) ,  true_label tensor(7)\n"
     ]
    },
    {
     "data": {
      "image/png": "[encoded data removed]",
      "text/plain": [
       "<Figure size 640x480 with 1 Axes>"
      ]
     },
     "metadata": {},
     "output_type": "display_data"
    },
    {
     "name": "stdout",
     "output_type": "stream",
     "text": [
      "pred label:  tensor(8) ,  true_label tensor(5)\n"
     ]
    },
    {
     "data": {
      "image/png": "[encoded data removed]",
      "text/plain": [
       "<Figure size 640x480 with 1 Axes>"
      ]
     },
     "metadata": {},
     "output_type": "display_data"
    },
    {
     "name": "stdout",
     "output_type": "stream",
     "text": [
      "pred label:  tensor(1) ,  true_label tensor(2)\n"
     ]
    },
    {
     "data": {
      "image/png": "[encoded data removed]",
      "text/plain": [
       "<Figure size 640x480 with 1 Axes>"
      ]
     },
     "metadata": {},
     "output_type": "display_data"
    },
    {
     "name": "stdout",
     "output_type": "stream",
     "text": [
      "pred label:  tensor(1) ,  true_label tensor(8)\n"
     ]
    },
    {
     "data": {
      "image/png": "[encoded data removed]",
      "text/plain": [
       "<Figure size 640x480 with 1 Axes>"
      ]
     },
     "metadata": {},
     "output_type": "display_data"
    },
    {
     "name": "stdout",
     "output_type": "stream",
     "text": [
      "pred label:  tensor(7) ,  true_label tensor(4)\n"
     ]
    },
    {
     "data": {
      "image/png": "[encoded data removed]",
      "text/plain": [
       "<Figure size 640x480 with 1 Axes>"
      ]
     },
     "metadata": {},
     "output_type": "display_data"
    },
    {
     "name": "stdout",
     "output_type": "stream",
     "text": [
      "pred label:  tensor(0) ,  true_label tensor(9)\n"
     ]
    },
    {
     "data": {
      "image/png": "[encoded data removed]",
      "text/plain": [
       "<Figure size 640x480 with 1 Axes>"
      ]
     },
     "metadata": {},
     "output_type": "display_data"
    }
   ],
   "source": [
    "from utils import visial\n",
    "for fig, label, t_label in zip(data, labels, true_labels):\n",
    "    print(\"pred label: \", label, \", \", \"true_label\", t_label)\n",
    "    visial(fig)"
   ]
  },
  {
   "cell_type": "code",
   "execution_count": 2,
   "metadata": {},
   "outputs": [
    {
     "name": "stderr",
     "output_type": "stream",
     "text": [
      "100%|█████████████████████████████████████████████████████████████████████████████████████████████████████████████████████████████████████████████████████████████████████████| 938/938 [00:31<00:00, 29.50it/s]\n"
     ]
    },
    {
     "name": "stdout",
     "output_type": "stream",
     "text": [
      "Accuracy on the val set: 76 %\n"
     ]
    },
    {
     "name": "stderr",
     "output_type": "stream",
     "text": [
      "100%|█████████████████████████████████████████████████████████████████████████████████████████████████████████████████████████████████████████████████████████████████████████| 938/938 [00:29<00:00, 31.35it/s]\n"
     ]
    },
    {
     "name": "stdout",
     "output_type": "stream",
     "text": [
      "Accuracy on the val set: 77 %\n"
     ]
    },
    {
     "name": "stderr",
     "output_type": "stream",
     "text": [
      "100%|█████████████████████████████████████████████████████████████████████████████████████████████████████████████████████████████████████████████████████████████████████████| 938/938 [00:32<00:00, 29.28it/s]\n"
     ]
    },
    {
     "name": "stdout",
     "output_type": "stream",
     "text": [
      "Accuracy on the val set: 77 %\n"
     ]
    },
    {
     "name": "stderr",
     "output_type": "stream",
     "text": [
      "100%|█████████████████████████████████████████████████████████████████████████████████████████████████████████████████████████████████████████████████████████████████████████| 938/938 [00:30<00:00, 30.37it/s]\n"
     ]
    },
    {
     "name": "stdout",
     "output_type": "stream",
     "text": [
      "Accuracy on the val set: 76 %\n"
     ]
    },
    {
     "name": "stderr",
     "output_type": "stream",
     "text": [
      "100%|█████████████████████████████████████████████████████████████████████████████████████████████████████████████████████████████████████████████████████████████████████████| 938/938 [00:31<00:00, 29.90it/s]\n"
     ]
    },
    {
     "name": "stdout",
     "output_type": "stream",
     "text": [
      "Accuracy on the val set: 76 %\n"
     ]
    },
    {
     "ename": "TypeError",
     "evalue": "float() argument must be a string or a number, not 'list'",
     "output_type": "error",
     "traceback": [
      "\u001b[0;31m---------------------------------------------------------------------------\u001b[0m",
      "\u001b[0;31mTypeError\u001b[0m                                 Traceback (most recent call last)",
      "Cell \u001b[0;32mIn[2], line 9\u001b[0m\n\u001b[1;32m      7\u001b[0m     wrong_pred,acc \u001b[38;5;241m=\u001b[39m alg\u001b[38;5;241m.\u001b[39mevaluate(val_loader)\n\u001b[1;32m      8\u001b[0m     acc_record\u001b[38;5;241m.\u001b[39mappend(acc)\n\u001b[0;32m----> 9\u001b[0m loss_record1 \u001b[38;5;241m=\u001b[39m \u001b[38;5;28;43mlist\u001b[39;49m\u001b[43m(\u001b[49m\u001b[38;5;28;43mmap\u001b[39;49m\u001b[43m(\u001b[49m\u001b[38;5;28;43mfloat\u001b[39;49m\u001b[43m,\u001b[49m\u001b[43m \u001b[49m\u001b[43mloss_record\u001b[49m\u001b[43m)\u001b[49m\u001b[43m)\u001b[49m\n",
      "\u001b[0;31mTypeError\u001b[0m: float() argument must be a string or a number, not 'list'"
     ]
    }
   ],
   "source": [
    "alg = FuzzyAlgorithm()\n",
    "loss_record = []\n",
    "acc_record = []\n",
    "epochs = 5\n",
    "for epoch in range(epochs):\n",
    "    loss_record.append(alg.train(train_loader))\n",
    "    wrong_pred,acc = alg.evaluate(val_loader)\n",
    "    acc_record.append(acc)\n",
    "# loss_record1 = list(map(float, loss_record))"
   ]
  },
  {
   "cell_type": "code",
   "execution_count": 8,
   "metadata": {},
   "outputs": [],
   "source": [
    "out = alg_sim.predict(test_loader)"
   ]
  },
  {
   "cell_type": "code",
   "execution_count": 9,
   "metadata": {},
   "outputs": [
    {
     "data": {
      "text/plain": [
       "CNN1(\n",
       "  (conv1): Sequential(\n",
       "    (0): Conv2d(10, 80, kernel_size=(3, 3), stride=(1, 1), padding=(2, 2))\n",
       "    (1): ReLU()\n",
       "    (2): MaxPool2d(kernel_size=2, stride=2, padding=0, dilation=1, ceil_mode=False)\n",
       "  )\n",
       "  (conv2): Sequential(\n",
       "    (0): Conv2d(80, 160, kernel_size=(5, 5), stride=(1, 1), padding=(2, 2))\n",
       "    (1): ReLU()\n",
       "    (2): MaxPool2d(kernel_size=2, stride=2, padding=0, dilation=1, ceil_mode=False)\n",
       "  )\n",
       "  (conv3): Sequential(\n",
       "    (0): Conv2d(160, 320, kernel_size=(3, 3), stride=(1, 1), padding=(1, 1))\n",
       "    (1): ReLU()\n",
       "    (2): MaxPool2d(kernel_size=2, stride=2, padding=0, dilation=1, ceil_mode=False)\n",
       "  )\n",
       "  (out): Sequential(\n",
       "    (0): Linear(in_features=2880, out_features=640, bias=True)\n",
       "    (1): Linear(in_features=640, out_features=64, bias=True)\n",
       "    (2): Linear(in_features=64, out_features=10, bias=True)\n",
       "  )\n",
       ")"
      ]
     },
     "execution_count": 9,
     "metadata": {},
     "output_type": "execute_result"
    }
   ],
   "source": [
    "alg.model"
   ]
  },
  {
   "cell_type": "code",
   "execution_count": 4,
   "metadata": {},
   "outputs": [],
   "source": [
    "result = []\n",
    "for i in range(0, len(out), 2):\n",
    "    result.extend(list(zip(out[i], list(out[i+1]))))"
   ]
  },
  {
   "cell_type": "code",
   "execution_count": 5,
   "metadata": {},
   "outputs": [
    {
     "data": {
      "text/plain": [
       "[('2761.npy', 2),\n",
       " ('9454.npy', 8),\n",
       " ('4164.npy', 1),\n",
       " ('8658.npy', 1),\n",
       " ('6779.npy', 5),\n",
       " ('5559.npy', 0),\n",
       " ('3110.npy', 0),\n",
       " ('5080.npy', 7),\n",
       " ('5517.npy', 4),\n",
       " ('7960.npy', 3),\n",
       " ('4730.npy', 5),\n",
       " ('3351.npy', 7),\n",
       " ('5861.npy', 9),\n",
       " ('4827.npy', 1),\n",
       " ('7023.npy', 1),\n",
       " ('1363.npy', 3),\n",
       " ('9545.npy', 1),\n",
       " ('9011.npy', 2),\n",
       " ('1407.npy', 7),\n",
       " ('6778.npy', 2),\n",
       " ('3673.npy', 2),\n",
       " ('2911.npy', 7),\n",
       " ('8914.npy', 6),\n",
       " ('429.npy', 1),\n",
       " ('1174.npy', 4),\n",
       " ('846.npy', 7),\n",
       " ('5767.npy', 5),\n",
       " ('7971.npy', 4),\n",
       " ('5460.npy', 7),\n",
       " ('4721.npy', 7),\n",
       " ('7957.npy', 0),\n",
       " ('4405.npy', 9),\n",
       " ('5443.npy', 8),\n",
       " ('1933.npy', 0),\n",
       " ('6356.npy', 1),\n",
       " ('7977.npy', 0),\n",
       " ('4775.npy', 6),\n",
       " ('8651.npy', 9),\n",
       " ('4178.npy', 0),\n",
       " ('1664.npy', 0),\n",
       " ('2433.npy', 3),\n",
       " ('7869.npy', 1),\n",
       " ('592.npy', 5),\n",
       " ('9763.npy', 8),\n",
       " ('9646.npy', 7),\n",
       " ('924.npy', 4),\n",
       " ('3252.npy', 7),\n",
       " ('6916.npy', 8),\n",
       " ('239.npy', 6),\n",
       " ('784.npy', 0),\n",
       " ('4227.npy', 0),\n",
       " ('2773.npy', 0),\n",
       " ('4595.npy', 4),\n",
       " ('2721.npy', 0),\n",
       " ('9375.npy', 6),\n",
       " ('4675.npy', 2),\n",
       " ('8945.npy', 7),\n",
       " ('7673.npy', 2),\n",
       " ('6374.npy', 4),\n",
       " ('6007.npy', 3),\n",
       " ('5235.npy', 4),\n",
       " ('9199.npy', 9),\n",
       " ('399.npy', 6),\n",
       " ('6957.npy', 5),\n",
       " ('7701.npy', 7),\n",
       " ('3708.npy', 8),\n",
       " ('1650.npy', 7),\n",
       " ('9712.npy', 3),\n",
       " ('5445.npy', 2),\n",
       " ('7287.npy', 6),\n",
       " ('3186.npy', 9),\n",
       " ('8449.npy', 1),\n",
       " ('7983.npy', 6),\n",
       " ('2034.npy', 5),\n",
       " ('2802.npy', 1),\n",
       " ('9056.npy', 3),\n",
       " ('6627.npy', 3),\n",
       " ('5655.npy', 6),\n",
       " ('3523.npy', 5),\n",
       " ('8313.npy', 8),\n",
       " ('2997.npy', 1),\n",
       " ('8062.npy', 3),\n",
       " ('2757.npy', 9),\n",
       " ('5722.npy', 4),\n",
       " ('9817.npy', 8),\n",
       " ('570.npy', 4),\n",
       " ('7313.npy', 4),\n",
       " ('3118.npy', 6),\n",
       " ('4745.npy', 8),\n",
       " ('8666.npy', 3),\n",
       " ('5269.npy', 0),\n",
       " ('3934.npy', 0),\n",
       " ('3853.npy', 3),\n",
       " ('6664.npy', 6),\n",
       " ('8860.npy', 4),\n",
       " ('1246.npy', 7),\n",
       " ('1508.npy', 3),\n",
       " ('3185.npy', 3),\n",
       " ('7679.npy', 5),\n",
       " ('9468.npy', 6),\n",
       " ('2574.npy', 1),\n",
       " ('7790.npy', 1),\n",
       " ('8142.npy', 8),\n",
       " ('3574.npy', 8),\n",
       " ('6053.npy', 8),\n",
       " ('6014.npy', 0),\n",
       " ('2493.npy', 0),\n",
       " ('2920.npy', 0),\n",
       " ('9491.npy', 1),\n",
       " ('986.npy', 9),\n",
       " ('9845.npy', 9),\n",
       " ('6302.npy', 6),\n",
       " ('1413.npy', 3),\n",
       " ('7001.npy', 4),\n",
       " ('7272.npy', 5),\n",
       " ('7721.npy', 2),\n",
       " ('7145.npy', 2),\n",
       " ('8066.npy', 1),\n",
       " ('956.npy', 2),\n",
       " ('6657.npy', 1),\n",
       " ('3045.npy', 5),\n",
       " ('2054.npy', 1),\n",
       " ('8222.npy', 9),\n",
       " ('7716.npy', 6),\n",
       " ('8588.npy', 7),\n",
       " ('3088.npy', 4),\n",
       " ('582.npy', 1),\n",
       " ('210.npy', 3),\n",
       " ('5328.npy', 0),\n",
       " ('428.npy', 3),\n",
       " ('6533.npy', 0),\n",
       " ('7008.npy', 5),\n",
       " ('1264.npy', 8),\n",
       " ('9597.npy', 3),\n",
       " ('7990.npy', 1),\n",
       " ('5267.npy', 2),\n",
       " ('6383.npy', 5),\n",
       " ('7585.npy', 2),\n",
       " ('1269.npy', 7),\n",
       " ('9399.npy', 1),\n",
       " ('1808.npy', 6),\n",
       " ('798.npy', 7),\n",
       " ('1637.npy', 3),\n",
       " ('3527.npy', 8),\n",
       " ('3147.npy', 4),\n",
       " ('5167.npy', 2),\n",
       " ('6490.npy', 0),\n",
       " ('6535.npy', 2),\n",
       " ('2266.npy', 1),\n",
       " ('5264.npy', 5),\n",
       " ('416.npy', 2),\n",
       " ('8961.npy', 1),\n",
       " ('9594.npy', 8),\n",
       " ('5259.npy', 3),\n",
       " ('1548.npy', 9),\n",
       " ('1570.npy', 5),\n",
       " ('9724.npy', 8),\n",
       " ('6023.npy', 2),\n",
       " ('351.npy', 3),\n",
       " ('2085.npy', 8),\n",
       " ('6112.npy', 8),\n",
       " ('8133.npy', 1),\n",
       " ('6707.npy', 9),\n",
       " ('4149.npy', 1),\n",
       " ('3184.npy', 8),\n",
       " ('4690.npy', 6),\n",
       " ('5083.npy', 8),\n",
       " ('665.npy', 4),\n",
       " ('5531.npy', 4),\n",
       " ('5623.npy', 2),\n",
       " ('4837.npy', 0),\n",
       " ('1049.npy', 8),\n",
       " ('6189.npy', 3),\n",
       " ('5963.npy', 1),\n",
       " ('4515.npy', 2),\n",
       " ('6080.npy', 2),\n",
       " ('1400.npy', 1),\n",
       " ('9336.npy', 0),\n",
       " ('2726.npy', 6),\n",
       " ('7249.npy', 2),\n",
       " ('2472.npy', 2),\n",
       " ('8047.npy', 8),\n",
       " ('7489.npy', 4),\n",
       " ('8288.npy', 0),\n",
       " ('3429.npy', 9),\n",
       " ('7427.npy', 1),\n",
       " ('226.npy', 2),\n",
       " ('1320.npy', 6),\n",
       " ('8264.npy', 7),\n",
       " ('7758.npy', 3),\n",
       " ('7742.npy', 8),\n",
       " ('9584.npy', 7),\n",
       " ('9497.npy', 2),\n",
       " ('6677.npy', 6),\n",
       " ('6055.npy', 5),\n",
       " ('7474.npy', 1),\n",
       " ('6134.npy', 2),\n",
       " ('6513.npy', 6),\n",
       " ('410.npy', 7),\n",
       " ('5092.npy', 2),\n",
       " ('6317.npy', 4),\n",
       " ('6040.npy', 0),\n",
       " ('9583.npy', 4),\n",
       " ('4597.npy', 7),\n",
       " ('6684.npy', 9),\n",
       " ('1399.npy', 8),\n",
       " ('7793.npy', 3),\n",
       " ('4387.npy', 7),\n",
       " ('7883.npy', 3),\n",
       " ('765.npy', 3),\n",
       " ('2094.npy', 6),\n",
       " ('9360.npy', 3),\n",
       " ('7797.npy', 6),\n",
       " ('7109.npy', 6),\n",
       " ('2441.npy', 1),\n",
       " ('6802.npy', 1),\n",
       " ('5744.npy', 6),\n",
       " ('1143.npy', 5),\n",
       " ('2867.npy', 7),\n",
       " ('8112.npy', 0),\n",
       " ('8231.npy', 5),\n",
       " ('7448.npy', 6),\n",
       " ('2350.npy', 3),\n",
       " ('2073.npy', 4),\n",
       " ('4917.npy', 9),\n",
       " ('827.npy', 3),\n",
       " ('8756.npy', 3),\n",
       " ('217.npy', 5),\n",
       " ('1658.npy', 8),\n",
       " ('6063.npy', 0),\n",
       " ('6562.npy', 7),\n",
       " ('9692.npy', 8),\n",
       " ('2331.npy', 3),\n",
       " ('2136.npy', 0),\n",
       " ('3828.npy', 5),\n",
       " ('2040.npy', 6),\n",
       " ('2230.npy', 4),\n",
       " ('263.npy', 2),\n",
       " ('3900.npy', 9),\n",
       " ('6699.npy', 1),\n",
       " ('2826.npy', 9),\n",
       " ('8458.npy', 0),\n",
       " ('7737.npy', 9),\n",
       " ('7450.npy', 4),\n",
       " ('1097.npy', 0),\n",
       " ('6968.npy', 6),\n",
       " ('9112.npy', 7),\n",
       " ('489.npy', 4),\n",
       " ('5652.npy', 5),\n",
       " ('9753.npy', 5),\n",
       " ('7755.npy', 0),\n",
       " ('9188.npy', 7),\n",
       " ('276.npy', 9),\n",
       " ('3059.npy', 6),\n",
       " ('692.npy', 3),\n",
       " ('4204.npy', 1),\n",
       " ('8404.npy', 9),\n",
       " ('630.npy', 7),\n",
       " ('5490.npy', 1),\n",
       " ('4404.npy', 2),\n",
       " ('2293.npy', 8),\n",
       " ('8419.npy', 8),\n",
       " ('7432.npy', 6),\n",
       " ('7771.npy', 8),\n",
       " ('1471.npy', 4),\n",
       " ('1925.npy', 3),\n",
       " ('7445.npy', 8),\n",
       " ('2820.npy', 6),\n",
       " ('9329.npy', 3),\n",
       " ('3089.npy', 7),\n",
       " ('6159.npy', 0),\n",
       " ('3036.npy', 8),\n",
       " ('7477.npy', 5),\n",
       " ('7329.npy', 4),\n",
       " ('8669.npy', 6),\n",
       " ('3428.npy', 3),\n",
       " ('6911.npy', 8),\n",
       " ('7327.npy', 6),\n",
       " ('976.npy', 2),\n",
       " ('6410.npy', 0),\n",
       " ('6498.npy', 5),\n",
       " ('8766.npy', 8),\n",
       " ('2264.npy', 3),\n",
       " ('4038.npy', 1),\n",
       " ('6964.npy', 2),\n",
       " ('1651.npy', 4),\n",
       " ('5849.npy', 7),\n",
       " ('8235.npy', 0),\n",
       " ('4709.npy', 5),\n",
       " ('2762.npy', 8),\n",
       " ('7160.npy', 7),\n",
       " ('8622.npy', 8),\n",
       " ('4797.npy', 6),\n",
       " ('4621.npy', 4),\n",
       " ('1560.npy', 7),\n",
       " ('4200.npy', 8),\n",
       " ('342.npy', 3),\n",
       " ('6652.npy', 0),\n",
       " ('3836.npy', 7),\n",
       " ('4409.npy', 3),\n",
       " ('2212.npy', 3),\n",
       " ('1863.npy', 4),\n",
       " ('8016.npy', 6),\n",
       " ('8641.npy', 5),\n",
       " ('954.npy', 1),\n",
       " ('2645.npy', 3),\n",
       " ('7892.npy', 2),\n",
       " ('6673.npy', 2),\n",
       " ('2359.npy', 2),\n",
       " ('3258.npy', 0),\n",
       " ('6384.npy', 1),\n",
       " ('4147.npy', 2),\n",
       " ('4303.npy', 0),\n",
       " ('2993.npy', 5),\n",
       " ('1463.npy', 7),\n",
       " ('9034.npy', 0),\n",
       " ('2443.npy', 8),\n",
       " ('2740.npy', 3),\n",
       " ('1201.npy', 4),\n",
       " ('8209.npy', 4),\n",
       " ('9647.npy', 5),\n",
       " ('2760.npy', 6),\n",
       " ('6128.npy', 9),\n",
       " ('8337.npy', 8),\n",
       " ('5387.npy', 2),\n",
       " ('9788.npy', 6),\n",
       " ('5958.npy', 1),\n",
       " ('8708.npy', 0),\n",
       " ('5544.npy', 8),\n",
       " ('2707.npy', 3),\n",
       " ('4349.npy', 6),\n",
       " ('9877.npy', 4),\n",
       " ('7093.npy', 3),\n",
       " ('5639.npy', 2),\n",
       " ('8267.npy', 1),\n",
       " ('2364.npy', 4),\n",
       " ('7881.npy', 3),\n",
       " ('5202.npy', 5),\n",
       " ('7420.npy', 4),\n",
       " ('1733.npy', 5),\n",
       " ('3859.npy', 0),\n",
       " ('3581.npy', 2),\n",
       " ('1968.npy', 9),\n",
       " ('1934.npy', 1),\n",
       " ('4435.npy', 3),\n",
       " ('2576.npy', 1),\n",
       " ('1600.npy', 0),\n",
       " ('7865.npy', 5),\n",
       " ('6845.npy', 8),\n",
       " ('4836.npy', 7),\n",
       " ('7947.npy', 2),\n",
       " ('27.npy', 5),\n",
       " ('2176.npy', 1),\n",
       " ('7018.npy', 9),\n",
       " ('8469.npy', 2),\n",
       " ('7095.npy', 5),\n",
       " ('642.npy', 0),\n",
       " ('5791.npy', 5),\n",
       " ('8794.npy', 8),\n",
       " ('4323.npy', 7),\n",
       " ('8126.npy', 3),\n",
       " ('3876.npy', 1),\n",
       " ('2884.npy', 1),\n",
       " ('2261.npy', 9),\n",
       " ('6049.npy', 7),\n",
       " ('2402.npy', 3),\n",
       " ('1288.npy', 6),\n",
       " ('455.npy', 4),\n",
       " ('1773.npy', 9),\n",
       " ('9428.npy', 0),\n",
       " ('927.npy', 1),\n",
       " ('2655.npy', 9),\n",
       " ('8513.npy', 4),\n",
       " ('1871.npy', 6),\n",
       " ('5597.npy', 5),\n",
       " ('644.npy', 2),\n",
       " ('1336.npy', 6),\n",
       " ('7720.npy', 0),\n",
       " ('2319.npy', 8),\n",
       " ('787.npy', 3),\n",
       " ('9501.npy', 0),\n",
       " ('7635.npy', 8),\n",
       " ('7050.npy', 1),\n",
       " ('9433.npy', 5),\n",
       " ('4555.npy', 1),\n",
       " ('6871.npy', 0),\n",
       " ('8965.npy', 5),\n",
       " ('7351.npy', 5),\n",
       " ('666.npy', 5),\n",
       " ('1299.npy', 0),\n",
       " ('6234.npy', 6),\n",
       " ('560.npy', 4),\n",
       " ('5777.npy', 6),\n",
       " ('8495.npy', 0),\n",
       " ('8150.npy', 9),\n",
       " ('2786.npy', 4),\n",
       " ('2657.npy', 1),\n",
       " ('462.npy', 9),\n",
       " ('5251.npy', 5),\n",
       " ('5150.npy', 3),\n",
       " ('6999.npy', 8),\n",
       " ('3336.npy', 2),\n",
       " ('805.npy', 2),\n",
       " ('6862.npy', 0),\n",
       " ('1640.npy', 8),\n",
       " ('4967.npy', 2),\n",
       " ('9701.npy', 0),\n",
       " ('8275.npy', 7),\n",
       " ('4571.npy', 8),\n",
       " ('9769.npy', 7),\n",
       " ('4469.npy', 5),\n",
       " ('266.npy', 6),\n",
       " ('3979.npy', 0),\n",
       " ('2153.npy', 2),\n",
       " ('4630.npy', 7),\n",
       " ('117.npy', 6),\n",
       " ('1300.npy', 6),\n",
       " ('2923.npy', 8),\n",
       " ('9858.npy', 7),\n",
       " ('1991.npy', 7),\n",
       " ('4968.npy', 1),\n",
       " ('1438.npy', 2),\n",
       " ('4607.npy', 8),\n",
       " ('2.npy', 5),\n",
       " ('5185.npy', 5),\n",
       " ('3585.npy', 4),\n",
       " ('7904.npy', 1),\n",
       " ('8109.npy', 8),\n",
       " ('1608.npy', 0),\n",
       " ('8087.npy', 1),\n",
       " ('3730.npy', 0),\n",
       " ('7201.npy', 4),\n",
       " ('4782.npy', 6),\n",
       " ('380.npy', 1),\n",
       " ('888.npy', 1),\n",
       " ('8994.npy', 9),\n",
       " ('195.npy', 4),\n",
       " ('6052.npy', 4),\n",
       " ('3783.npy', 0),\n",
       " ('5406.npy', 1),\n",
       " ('1141.npy', 7),\n",
       " ('9801.npy', 9),\n",
       " ('459.npy', 6),\n",
       " ('4092.npy', 4),\n",
       " ('3394.npy', 7),\n",
       " ('9546.npy', 4),\n",
       " ('9579.npy', 3),\n",
       " ('8675.npy', 4),\n",
       " ('9750.npy', 0),\n",
       " ('2722.npy', 1),\n",
       " ('2599.npy', 2),\n",
       " ('9493.npy', 1),\n",
       " ('4639.npy', 9),\n",
       " ('9144.npy', 0),\n",
       " ('6228.npy', 0),\n",
       " ('894.npy', 1),\n",
       " ('2811.npy', 8),\n",
       " ('5419.npy', 0),\n",
       " ('5469.npy', 8),\n",
       " ('2766.npy', 6),\n",
       " ('3830.npy', 1),\n",
       " ('6236.npy', 8),\n",
       " ('5984.npy', 2),\n",
       " ('8840.npy', 5),\n",
       " ('8806.npy', 9),\n",
       " ('5885.npy', 8),\n",
       " ('7804.npy', 6),\n",
       " ('2515.npy', 4),\n",
       " ('1426.npy', 0),\n",
       " ('1655.npy', 5),\n",
       " ('3733.npy', 8),\n",
       " ('251.npy', 5),\n",
       " ('9379.npy', 3),\n",
       " ('3448.npy', 3),\n",
       " ('7320.npy', 2),\n",
       " ('8515.npy', 2),\n",
       " ('9397.npy', 9),\n",
       " ('4951.npy', 0),\n",
       " ('2990.npy', 0),\n",
       " ('7832.npy', 3),\n",
       " ('3843.npy', 3),\n",
       " ('5350.npy', 7),\n",
       " ('5052.npy', 5),\n",
       " ('1165.npy', 3),\n",
       " ('1963.npy', 7),\n",
       " ('5191.npy', 1),\n",
       " ('9026.npy', 8),\n",
       " ('3017.npy', 5),\n",
       " ('1783.npy', 7),\n",
       " ('1782.npy', 8),\n",
       " ('7884.npy', 4),\n",
       " ('2326.npy', 9),\n",
       " ('3237.npy', 2),\n",
       " ('2338.npy', 9),\n",
       " ('101.npy', 6),\n",
       " ('1779.npy', 5),\n",
       " ('7063.npy', 2),\n",
       " ('9426.npy', 4),\n",
       " ('9039.npy', 8),\n",
       " ('7148.npy', 3),\n",
       " ('3142.npy', 0),\n",
       " ('4445.npy', 8),\n",
       " ('9086.npy', 7),\n",
       " ('8731.npy', 6),\n",
       " ('6733.npy', 0),\n",
       " ('9638.npy', 4),\n",
       " ('9075.npy', 3),\n",
       " ('8008.npy', 2),\n",
       " ('9446.npy', 7),\n",
       " ('3705.npy', 0),\n",
       " ('5113.npy', 6),\n",
       " ('1574.npy', 1),\n",
       " ('9464.npy', 8),\n",
       " ('3201.npy', 2),\n",
       " ('9480.npy', 9),\n",
       " ('1768.npy', 1),\n",
       " ('2028.npy', 3),\n",
       " ('4521.npy', 3),\n",
       " ('4184.npy', 3),\n",
       " ('6473.npy', 5),\n",
       " ('8325.npy', 0),\n",
       " ('7457.npy', 9),\n",
       " ('2759.npy', 8),\n",
       " ('653.npy', 3),\n",
       " ('1715.npy', 4),\n",
       " ('7212.npy', 3),\n",
       " ('7776.npy', 2),\n",
       " ('6461.npy', 7),\n",
       " ('3192.npy', 7),\n",
       " ('1086.npy', 7),\n",
       " ('4274.npy', 8),\n",
       " ('3432.npy', 1),\n",
       " ('7164.npy', 5),\n",
       " ('8701.npy', 3),\n",
       " ('8500.npy', 1),\n",
       " ('282.npy', 3),\n",
       " ('1347.npy', 5),\n",
       " ('5892.npy', 7),\n",
       " ('752.npy', 7),\n",
       " ('4119.npy', 5),\n",
       " ('4605.npy', 2),\n",
       " ('8716.npy', 8),\n",
       " ('9846.npy', 1),\n",
       " ('3914.npy', 1),\n",
       " ('4157.npy', 9),\n",
       " ('5262.npy', 4),\n",
       " ('1604.npy', 1),\n",
       " ('3474.npy', 0),\n",
       " ('9462.npy', 9),\n",
       " ('6873.npy', 3),\n",
       " ('9062.npy', 0),\n",
       " ('6586.npy', 8),\n",
       " ('4109.npy', 6),\n",
       " ('8798.npy', 4),\n",
       " ('4916.npy', 8),\n",
       " ('4273.npy', 4),\n",
       " ('4677.npy', 8),\n",
       " ('9215.npy', 5),\n",
       " ('4591.npy', 1),\n",
       " ('3316.npy', 5),\n",
       " ('5880.npy', 0),\n",
       " ('3768.npy', 8),\n",
       " ('9384.npy', 4),\n",
       " ('9766.npy', 4),\n",
       " ('2415.npy', 5),\n",
       " ('3273.npy', 7),\n",
       " ('7594.npy', 8),\n",
       " ('7669.npy', 9),\n",
       " ('6155.npy', 3),\n",
       " ('6321.npy', 3),\n",
       " ('4972.npy', 1),\n",
       " ('807.npy', 1),\n",
       " ('9163.npy', 8),\n",
       " ('5271.npy', 7),\n",
       " ('3500.npy', 2),\n",
       " ('1396.npy', 7),\n",
       " ('7054.npy', 2),\n",
       " ('3575.npy', 2),\n",
       " ('8287.npy', 7),\n",
       " ('7505.npy', 7),\n",
       " ('5535.npy', 3),\n",
       " ('6816.npy', 9),\n",
       " ('6760.npy', 5),\n",
       " ('861.npy', 8),\n",
       " ('3254.npy', 1),\n",
       " ('4731.npy', 6),\n",
       " ('9891.npy', 8),\n",
       " ('6526.npy', 4),\n",
       " ('4743.npy', 9),\n",
       " ('6475.npy', 3),\n",
       " ('6882.npy', 3),\n",
       " ('7754.npy', 9),\n",
       " ('4523.npy', 7),\n",
       " ('833.npy', 3),\n",
       " ('8552.npy', 5),\n",
       " ('2972.npy', 8),\n",
       " ('1041.npy', 7),\n",
       " ('40.npy', 6),\n",
       " ('6300.npy', 0),\n",
       " ('4188.npy', 3),\n",
       " ('5681.npy', 9),\n",
       " ('6262.npy', 4),\n",
       " ('1929.npy', 5),\n",
       " ('5516.npy', 3),\n",
       " ('8357.npy', 9),\n",
       " ('884.npy', 1),\n",
       " ('128.npy', 1),\n",
       " ('1972.npy', 3),\n",
       " ('8377.npy', 9),\n",
       " ('6343.npy', 9),\n",
       " ('4155.npy', 5),\n",
       " ('1261.npy', 7),\n",
       " ('7381.npy', 8),\n",
       " ('1127.npy', 2),\n",
       " ('5551.npy', 1),\n",
       " ('7074.npy', 9),\n",
       " ('4185.npy', 6),\n",
       " ('5290.npy', 2),\n",
       " ('1847.npy', 2),\n",
       " ('6773.npy', 3),\n",
       " ('9282.npy', 5),\n",
       " ('1557.npy', 1),\n",
       " ('7408.npy', 2),\n",
       " ('8211.npy', 6),\n",
       " ('5782.npy', 3),\n",
       " ('9506.npy', 5),\n",
       " ('1861.npy', 8),\n",
       " ('6879.npy', 0),\n",
       " ('2878.npy', 3),\n",
       " ('4008.npy', 5),\n",
       " ('1549.npy', 4),\n",
       " ('7651.npy', 4),\n",
       " ('4015.npy', 2),\n",
       " ('3713.npy', 8),\n",
       " ('8335.npy', 3),\n",
       " ('3792.npy', 8),\n",
       " ('5602.npy', 6),\n",
       " ('218.npy', 3),\n",
       " ('6435.npy', 3),\n",
       " ('9601.npy', 9),\n",
       " ('7667.npy', 8),\n",
       " ('1151.npy', 2),\n",
       " ('6237.npy', 2),\n",
       " ('10.npy', 8),\n",
       " ('1486.npy', 3),\n",
       " ('4623.npy', 2),\n",
       " ('9786.npy', 6),\n",
       " ('6698.npy', 0),\n",
       " ('8296.npy', 1),\n",
       " ('7511.npy', 4),\n",
       " ('7496.npy', 6),\n",
       " ('6245.npy', 2),\n",
       " ('1960.npy', 0),\n",
       " ('1069.npy', 5),\n",
       " ('2866.npy', 9),\n",
       " ('715.npy', 3),\n",
       " ('5320.npy', 5),\n",
       " ('1521.npy', 6),\n",
       " ('892.npy', 9),\n",
       " ('3799.npy', 2),\n",
       " ('4863.npy', 9),\n",
       " ('8348.npy', 0),\n",
       " ('4002.npy', 7),\n",
       " ('5488.npy', 1),\n",
       " ('7692.npy', 6),\n",
       " ('5116.npy', 2),\n",
       " ('2800.npy', 4),\n",
       " ('3217.npy', 0),\n",
       " ('1705.npy', 7),\n",
       " ('7852.npy', 9),\n",
       " ('4432.npy', 3),\n",
       " ('7731.npy', 3),\n",
       " ('5829.npy', 0),\n",
       " ('233.npy', 5),\n",
       " ('1278.npy', 5),\n",
       " ('6580.npy', 1),\n",
       " ('7049.npy', 7),\n",
       " ('1257.npy', 4),\n",
       " ('3788.npy', 9),\n",
       " ('3490.npy', 5),\n",
       " ('7135.npy', 2),\n",
       " ('2563.npy', 3),\n",
       " ('2709.npy', 8),\n",
       " ('7509.npy', 2),\n",
       " ('1354.npy', 0),\n",
       " ('963.npy', 9),\n",
       " ('1203.npy', 2),\n",
       " ('3329.npy', 9),\n",
       " ('5893.npy', 0),\n",
       " ('2642.npy', 8),\n",
       " ('5713.npy', 9),\n",
       " ('1343.npy', 8),\n",
       " ('5756.npy', 9),\n",
       " ('572.npy', 1),\n",
       " ('7264.npy', 2),\n",
       " ('9338.npy', 1),\n",
       " ('1845.npy', 1),\n",
       " ('3149.npy', 4),\n",
       " ('7314.npy', 5),\n",
       " ('4973.npy', 9),\n",
       " ('3401.npy', 9),\n",
       " ('4065.npy', 8),\n",
       " ('2065.npy', 4),\n",
       " ('4142.npy', 3),\n",
       " ('4862.npy', 2),\n",
       " ('6749.npy', 2),\n",
       " ('8123.npy', 8),\n",
       " ('9131.npy', 3),\n",
       " ('6442.npy', 3),\n",
       " ('9667.npy', 9),\n",
       " ('1478.npy', 6),\n",
       " ('9530.npy', 8),\n",
       " ('2919.npy', 1),\n",
       " ('2669.npy', 9),\n",
       " ('1668.npy', 0),\n",
       " ('4634.npy', 2),\n",
       " ('7389.npy', 9),\n",
       " ('9574.npy', 1),\n",
       " ('2027.npy', 0),\n",
       " ('9325.npy', 0),\n",
       " ('3634.npy', 0),\n",
       " ('9349.npy', 8),\n",
       " ('6552.npy', 1),\n",
       " ('3593.npy', 9),\n",
       " ('189.npy', 5),\n",
       " ('3506.npy', 1),\n",
       " ('153.npy', 5),\n",
       " ('8740.npy', 3),\n",
       " ('7821.npy', 6),\n",
       " ('5160.npy', 4),\n",
       " ('2536.npy', 8),\n",
       " ('9623.npy', 9),\n",
       " ('1993.npy', 8),\n",
       " ('2232.npy', 7),\n",
       " ('5647.npy', 3),\n",
       " ('2931.npy', 6),\n",
       " ('8091.npy', 6),\n",
       " ('6269.npy', 4),\n",
       " ('7579.npy', 5),\n",
       " ('4768.npy', 7),\n",
       " ('5310.npy', 5),\n",
       " ('1077.npy', 2),\n",
       " ('1215.npy', 3),\n",
       " ('2484.npy', 8),\n",
       " ('7186.npy', 7),\n",
       " ('8346.npy', 6),\n",
       " ('1006.npy', 6),\n",
       " ('2554.npy', 1),\n",
       " ('9396.npy', 8),\n",
       " ('8011.npy', 0),\n",
       " ('6718.npy', 0),\n",
       " ('5696.npy', 3),\n",
       " ('7849.npy', 6),\n",
       " ('2845.npy', 3),\n",
       " ('4851.npy', 1),\n",
       " ('209.npy', 3),\n",
       " ('7887.npy', 0),\n",
       " ('7242.npy', 0),\n",
       " ('3511.npy', 2),\n",
       " ('8378.npy', 6),\n",
       " ('8407.npy', 5),\n",
       " ('3553.npy', 4),\n",
       " ('4110.npy', 9),\n",
       " ('8512.npy', 2),\n",
       " ('4322.npy', 5),\n",
       " ('7913.npy', 6),\n",
       " ('9732.npy', 8),\n",
       " ('2465.npy', 7),\n",
       " ('1026.npy', 7),\n",
       " ('1623.npy', 0),\n",
       " ('3874.npy', 1),\n",
       " ('2148.npy', 2),\n",
       " ('4578.npy', 7),\n",
       " ('1877.npy', 6),\n",
       " ('6290.npy', 8),\n",
       " ('79.npy', 8),\n",
       " ('8210.npy', 2),\n",
       " ('2424.npy', 1),\n",
       " ('8420.npy', 9),\n",
       " ('557.npy', 3),\n",
       " ('7031.npy', 3),\n",
       " ('6126.npy', 3),\n",
       " ('7205.npy', 6),\n",
       " ('852.npy', 6),\n",
       " ('3780.npy', 8),\n",
       " ('3202.npy', 6),\n",
       " ('9024.npy', 1),\n",
       " ('553.npy', 2),\n",
       " ('5077.npy', 7),\n",
       " ('7480.npy', 9),\n",
       " ('377.npy', 2),\n",
       " ('4411.npy', 9),\n",
       " ('1417.npy', 0),\n",
       " ('8953.npy', 6),\n",
       " ('688.npy', 9),\n",
       " ('7927.npy', 8),\n",
       " ('3238.npy', 9),\n",
       " ('4738.npy', 6),\n",
       " ('6992.npy', 4),\n",
       " ('1057.npy', 4),\n",
       " ('4878.npy', 8),\n",
       " ('9548.npy', 0),\n",
       " ('9129.npy', 3),\n",
       " ('8443.npy', 1),\n",
       " ('7626.npy', 4),\n",
       " ('3706.npy', 5),\n",
       " ('3994.npy', 5),\n",
       " ('388.npy', 9),\n",
       " ('286.npy', 6),\n",
       " ('6449.npy', 6),\n",
       " ('3117.npy', 3),\n",
       " ('4502.npy', 1),\n",
       " ('4091.npy', 1),\n",
       " ('4487.npy', 6),\n",
       " ('4881.npy', 2),\n",
       " ('4936.npy', 1),\n",
       " ('7968.npy', 1),\n",
       " ('5368.npy', 3),\n",
       " ('3831.npy', 6),\n",
       " ('2676.npy', 3),\n",
       " ('1093.npy', 1),\n",
       " ('3980.npy', 0),\n",
       " ('1562.npy', 6),\n",
       " ('1672.npy', 7),\n",
       " ('7147.npy', 1),\n",
       " ('638.npy', 8),\n",
       " ('8537.npy', 6),\n",
       " ('5640.npy', 3),\n",
       " ('2747.npy', 4),\n",
       " ('3723.npy', 2),\n",
       " ('116.npy', 3),\n",
       " ('6362.npy', 2),\n",
       " ('7537.npy', 6),\n",
       " ('937.npy', 1),\n",
       " ('2287.npy', 1),\n",
       " ('9377.npy', 2),\n",
       " ('7453.npy', 8),\n",
       " ('2360.npy', 5),\n",
       " ('5653.npy', 9),\n",
       " ('1746.npy', 5),\n",
       " ('7345.npy', 7),\n",
       " ('8673.npy', 4),\n",
       " ('8652.npy', 0),\n",
       " ('5177.npy', 7),\n",
       " ('2103.npy', 8),\n",
       " ('7950.npy', 3),\n",
       " ('703.npy', 4),\n",
       " ('4146.npy', 8),\n",
       " ('4395.npy', 0),\n",
       " ('4958.npy', 7),\n",
       " ('2566.npy', 7),\n",
       " ('6163.npy', 7),\n",
       " ('1132.npy', 4),\n",
       " ('3774.npy', 9),\n",
       " ('880.npy', 2),\n",
       " ('6352.npy', 7),\n",
       " ('4467.npy', 9),\n",
       " ('440.npy', 5),\n",
       " ('1263.npy', 7),\n",
       " ('9305.npy', 0),\n",
       " ('7632.npy', 8),\n",
       " ('9473.npy', 7),\n",
       " ('409.npy', 5),\n",
       " ('6504.npy', 1),\n",
       " ('2008.npy', 2),\n",
       " ('9205.npy', 3),\n",
       " ('7581.npy', 6),\n",
       " ('5588.npy', 9),\n",
       " ('225.npy', 4),\n",
       " ('443.npy', 8),\n",
       " ('6769.npy', 1),\n",
       " ('6426.npy', 0),\n",
       " ('9803.npy', 1),\n",
       " ('4402.npy', 9),\n",
       " ('9685.npy', 9),\n",
       " ('1074.npy', 2),\n",
       " ('2731.npy', 6),\n",
       " ('358.npy', 8),\n",
       " ('5726.npy', 6),\n",
       " ('9857.npy', 7),\n",
       " ('8100.npy', 6),\n",
       " ('7462.npy', 9),\n",
       " ('536.npy', 7),\n",
       " ('9754.npy', 8),\n",
       " ('2927.npy', 1),\n",
       " ('6355.npy', 3),\n",
       " ('2498.npy', 8),\n",
       " ('7221.npy', 2),\n",
       " ('2556.npy', 0),\n",
       " ('2189.npy', 8),\n",
       " ('6887.npy', 6),\n",
       " ('8106.npy', 3),\n",
       " ('1485.npy', 2),\n",
       " ('3270.npy', 4),\n",
       " ('8324.npy', 2),\n",
       " ('8519.npy', 0),\n",
       " ('1202.npy', 1),\n",
       " ('4514.npy', 0),\n",
       " ('6201.npy', 6),\n",
       " ('4858.npy', 0),\n",
       " ('2925.npy', 4),\n",
       " ('7828.npy', 8),\n",
       " ('2320.npy', 9),\n",
       " ('2362.npy', 8),\n",
       " ('7708.npy', 5),\n",
       " ('597.npy', 4),\n",
       " ('5725.npy', 4),\n",
       " ('1874.npy', 6),\n",
       " ('2376.npy', 5),\n",
       " ('4073.npy', 2),\n",
       " ('6377.npy', 8),\n",
       " ('8967.npy', 7),\n",
       " ('6366.npy', 2),\n",
       " ('9118.npy', 9),\n",
       " ('4480.npy', 1),\n",
       " ('8203.npy', 1),\n",
       " ('4886.npy', 8),\n",
       " ('1607.npy', 1),\n",
       " ('3514.npy', 6),\n",
       " ('3557.npy', 6),\n",
       " ('1731.npy', 6),\n",
       " ('4461.npy', 7),\n",
       " ('234.npy', 3),\n",
       " ('2863.npy', 4),\n",
       " ('4608.npy', 1),\n",
       " ('5646.npy', 1),\n",
       " ('8930.npy', 1),\n",
       " ('4428.npy', 3),\n",
       " ('3163.npy', 8),\n",
       " ('7878.npy', 7),\n",
       " ('2758.npy', 9),\n",
       " ('5545.npy', 9),\n",
       " ('2874.npy', 1),\n",
       " ('7207.npy', 7),\n",
       " ('9618.npy', 4),\n",
       " ('2974.npy', 3),\n",
       " ('578.npy', 9),\n",
       " ('3350.npy', 8),\n",
       " ('3211.npy', 5),\n",
       " ('3062.npy', 7),\n",
       " ('7751.npy', 6),\n",
       " ('4482.npy', 2),\n",
       " ('307.npy', 0),\n",
       " ('4406.npy', 2),\n",
       " ('4974.npy', 3),\n",
       " ('252.npy', 3),\n",
       " ('58.npy', 3),\n",
       " ('5463.npy', 7),\n",
       " ('8217.npy', 4),\n",
       " ('8581.npy', 0),\n",
       " ('614.npy', 8),\n",
       " ('6479.npy', 4),\n",
       " ('7781.npy', 1),\n",
       " ('3507.npy', 4),\n",
       " ('4669.npy', 9),\n",
       " ('2853.npy', 3),\n",
       " ('6423.npy', 8),\n",
       " ('9243.npy', 6),\n",
       " ('613.npy', 0),\n",
       " ('3144.npy', 1),\n",
       " ('5331.npy', 1),\n",
       " ('6227.npy', 8),\n",
       " ('9551.npy', 5),\n",
       " ('5712.npy', 0),\n",
       " ('2160.npy', 2),\n",
       " ('3442.npy', 4),\n",
       " ('1523.npy', 0),\n",
       " ('1692.npy', 7),\n",
       " ('1680.npy', 1),\n",
       " ('4403.npy', 2),\n",
       " ('3326.npy', 9),\n",
       " ('739.npy', 8),\n",
       " ('5758.npy', 8),\n",
       " ('6394.npy', 3),\n",
       " ('2352.npy', 5),\n",
       " ('4888.npy', 9),\n",
       " ('4030.npy', 7),\n",
       " ('3356.npy', 3),\n",
       " ('9179.npy', 7),\n",
       " ('5155.npy', 0),\n",
       " ('9460.npy', 7),\n",
       " ('1601.npy', 4),\n",
       " ('9607.npy', 3),\n",
       " ('8910.npy', 8),\n",
       " ('8529.npy', 0),\n",
       " ('5302.npy', 7),\n",
       " ('111.npy', 5),\n",
       " ('265.npy', 0),\n",
       " ('7514.npy', 7),\n",
       " ('749.npy', 3),\n",
       " ('8882.npy', 5),\n",
       " ('2705.npy', 5),\n",
       " ('5104.npy', 8),\n",
       " ('8935.npy', 5),\n",
       " ('95.npy', 3),\n",
       " ('3616.npy', 3),\n",
       " ('624.npy', 6),\n",
       " ('8402.npy', 8),\n",
       " ('1369.npy', 3),\n",
       " ('7677.npy', 5),\n",
       " ...]"
      ]
     },
     "execution_count": 5,
     "metadata": {},
     "output_type": "execute_result"
    }
   ],
   "source": [
    "temp = []\n",
    "for res in result:\n",
    "    temp.append((res[0].split(\"/\")[-1], res[1]))\n",
    "result = temp\n",
    "result"
   ]
  },
  {
   "cell_type": "code",
   "execution_count": 11,
   "metadata": {},
   "outputs": [
    {
     "data": {
      "image/png": "[encoded data removed]",
      "text/plain": [
       "<Figure size 640x480 with 1 Axes>"
      ]
     },
     "metadata": {},
     "output_type": "display_data"
    },
    {
     "data": {
      "image/png": "[encoded data removed]",
      "text/plain": [
       "<Figure size 640x480 with 1 Axes>"
      ]
     },
     "metadata": {},
     "output_type": "display_data"
    },
    {
     "data": {
      "image/png": "[encoded data removed]",
      "text/plain": [
       "<Figure size 640x480 with 1 Axes>"
      ]
     },
     "metadata": {},
     "output_type": "display_data"
    },
    {
     "data": {
      "image/png": "[encoded data removed]",
      "text/plain": [
       "<Figure size 640x480 with 1 Axes>"
      ]
     },
     "metadata": {},
     "output_type": "display_data"
    },
    {
     "data": {
      "image/png": "[encoded data removed]",
      "text/plain": [
       "<Figure size 640x480 with 1 Axes>"
      ]
     },
     "metadata": {},
     "output_type": "display_data"
    },
    {
     "data": {
      "image/png": "[encoded data removed]",
      "text/plain": [
       "<Figure size 640x480 with 1 Axes>"
      ]
     },
     "metadata": {},
     "output_type": "display_data"
    },
    {
     "data": {
      "image/png": "[encoded data removed]",
      "text/plain": [
       "<Figure size 640x480 with 1 Axes>"
      ]
     },
     "metadata": {},
     "output_type": "display_data"
    },
    {
     "data": {
      "image/png": "[encoded data removed]",
      "text/plain": [
       "<Figure size 640x480 with 1 Axes>"
      ]
     },
     "metadata": {},
     "output_type": "display_data"
    },
    {
     "data": {
      "image/png": "[encoded data removed]",
      "text/plain": [
       "<Figure size 640x480 with 1 Axes>"
      ]
     },
     "metadata": {},
     "output_type": "display_data"
    },
    {
     "data": {
      "image/png": "[encoded data removed]",
      "text/plain": [
       "<Figure size 640x480 with 1 Axes>"
      ]
     },
     "metadata": {},
     "output_type": "display_data"
    },
    {
     "data": {
      "image/png": "[encoded data removed]",
      "text/plain": [
       "<Figure size 640x480 with 1 Axes>"
      ]
     },
     "metadata": {},
     "output_type": "display_data"
    },
    {
     "data": {
      "image/png": "[encoded data removed]",
      "text/plain": [
       "<Figure size 640x480 with 1 Axes>"
      ]
     },
     "metadata": {},
     "output_type": "display_data"
    },
    {
     "data": {
      "image/png": "[encoded data removed]",
      "text/plain": [
       "<Figure size 640x480 with 1 Axes>"
      ]
     },
     "metadata": {},
     "output_type": "display_data"
    },
    {
     "data": {
      "image/png": "[encoded data removed]",
      "text/plain": [
       "<Figure size 640x480 with 1 Axes>"
      ]
     },
     "metadata": {},
     "output_type": "display_data"
    },
    {
     "data": {
      "image/png": "[encoded data removed]",
      "text/plain": [
       "<Figure size 640x480 with 1 Axes>"
      ]
     },
     "metadata": {},
     "output_type": "display_data"
    },
    {
     "data": {
      "image/png": "[encoded data removed]",
      "text/plain": [
       "<Figure size 640x480 with 1 Axes>"
      ]
     },
     "metadata": {},
     "output_type": "display_data"
    },
    {
     "data": {
      "image/png": "[encoded data removed]",
      "text/plain": [
       "<Figure size 640x480 with 1 Axes>"
      ]
     },
     "metadata": {},
     "output_type": "display_data"
    },
    {
     "data": {
      "image/png": "[encoded data removed]",
      "text/plain": [
       "<Figure size 640x480 with 1 Axes>"
      ]
     },
     "metadata": {},
     "output_type": "display_data"
    },
    {
     "data": {
      "image/png": "[encoded data removed]",
      "text/plain": [
       "<Figure size 640x480 with 1 Axes>"
      ]
     },
     "metadata": {},
     "output_type": "display_data"
    },
    {
     "data": {
      "image/png": "[encoded data removed]",
      "text/plain": [
       "<Figure size 640x480 with 1 Axes>"
      ]
     },
     "metadata": {},
     "output_type": "display_data"
    },
    {
     "data": {
      "image/png": "[encoded data removed]",
      "text/plain": [
       "<Figure size 640x480 with 1 Axes>"
      ]
     },
     "metadata": {},
     "output_type": "display_data"
    },
    {
     "data": {
      "image/png": "[encoded data removed]",
      "text/plain": [
       "<Figure size 640x480 with 1 Axes>"
      ]
     },
     "metadata": {},
     "output_type": "display_data"
    },
    {
     "data": {
      "image/png": "[encoded data removed]",
      "text/plain": [
       "<Figure size 640x480 with 1 Axes>"
      ]
     },
     "metadata": {},
     "output_type": "display_data"
    },
    {
     "data": {
      "image/png": "[encoded data removed]",
      "text/plain": [
       "<Figure size 640x480 with 1 Axes>"
      ]
     },
     "metadata": {},
     "output_type": "display_data"
    },
    {
     "data": {
      "image/png": "[encoded data removed]",
      "text/plain": [
       "<Figure size 640x480 with 1 Axes>"
      ]
     },
     "metadata": {},
     "output_type": "display_data"
    },
    {
     "data": {
      "image/png": "[encoded data removed]",
      "text/plain": [
       "<Figure size 640x480 with 1 Axes>"
      ]
     },
     "metadata": {},
     "output_type": "display_data"
    },
    {
     "data": {
      "image/png": "[encoded data removed]",
      "text/plain": [
       "<Figure size 640x480 with 1 Axes>"
      ]
     },
     "metadata": {},
     "output_type": "display_data"
    },
    {
     "data": {
      "image/png": "[encoded data removed]",
      "text/plain": [
       "<Figure size 640x480 with 1 Axes>"
      ]
     },
     "metadata": {},
     "output_type": "display_data"
    },
    {
     "data": {
      "image/png": "[encoded data removed]",
      "text/plain": [
       "<Figure size 640x480 with 1 Axes>"
      ]
     },
     "metadata": {},
     "output_type": "display_data"
    },
    {
     "data": {
      "image/png": "[encoded data removed]",
      "text/plain": [
       "<Figure size 640x480 with 1 Axes>"
      ]
     },
     "metadata": {},
     "output_type": "display_data"
    },
    {
     "data": {
      "image/png": "[encoded data removed]",
      "text/plain": [
       "<Figure size 640x480 with 1 Axes>"
      ]
     },
     "metadata": {},
     "output_type": "display_data"
    },
    {
     "data": {
      "image/png": "[encoded data removed]",
      "text/plain": [
       "<Figure size 640x480 with 1 Axes>"
      ]
     },
     "metadata": {},
     "output_type": "display_data"
    },
    {
     "data": {
      "image/png": "[encoded data removed]",
      "text/plain": [
       "<Figure size 640x480 with 1 Axes>"
      ]
     },
     "metadata": {},
     "output_type": "display_data"
    },
    {
     "data": {
      "image/png": "[encoded data removed]",
      "text/plain": [
       "<Figure size 640x480 with 1 Axes>"
      ]
     },
     "metadata": {},
     "output_type": "display_data"
    },
    {
     "data": {
      "image/png": "[encoded data removed]",
      "text/plain": [
       "<Figure size 640x480 with 1 Axes>"
      ]
     },
     "metadata": {},
     "output_type": "display_data"
    },
    {
     "data": {
      "image/png": "[encoded data removed]",
      "text/plain": [
       "<Figure size 640x480 with 1 Axes>"
      ]
     },
     "metadata": {},
     "output_type": "display_data"
    },
    {
     "data": {
      "image/png": "[encoded data removed]",
      "text/plain": [
       "<Figure size 640x480 with 1 Axes>"
      ]
     },
     "metadata": {},
     "output_type": "display_data"
    },
    {
     "data": {
      "image/png": "[encoded data removed]",
      "text/plain": [
       "<Figure size 640x480 with 1 Axes>"
      ]
     },
     "metadata": {},
     "output_type": "display_data"
    },
    {
     "data": {
      "image/png": "[encoded data removed]",
      "text/plain": [
       "<Figure size 640x480 with 1 Axes>"
      ]
     },
     "metadata": {},
     "output_type": "display_data"
    },
    {
     "data": {
      "image/png": "[encoded data removed]",
      "text/plain": [
       "<Figure size 640x480 with 1 Axes>"
      ]
     },
     "metadata": {},
     "output_type": "display_data"
    },
    {
     "data": {
      "image/png": "[encoded data removed]",
      "text/plain": [
       "<Figure size 640x480 with 1 Axes>"
      ]
     },
     "metadata": {},
     "output_type": "display_data"
    },
    {
     "data": {
      "image/png": "[encoded data removed]",
      "text/plain": [
       "<Figure size 640x480 with 1 Axes>"
      ]
     },
     "metadata": {},
     "output_type": "display_data"
    },
    {
     "data": {
      "image/png": "[encoded data removed]",
      "text/plain": [
       "<Figure size 640x480 with 1 Axes>"
      ]
     },
     "metadata": {},
     "output_type": "display_data"
    },
    {
     "data": {
      "image/png": "[encoded data removed]",
      "text/plain": [
       "<Figure size 640x480 with 1 Axes>"
      ]
     },
     "metadata": {},
     "output_type": "display_data"
    },
    {
     "data": {
      "image/png": "[encoded data removed]",
      "text/plain": [
       "<Figure size 640x480 with 1 Axes>"
      ]
     },
     "metadata": {},
     "output_type": "display_data"
    },
    {
     "data": {
      "image/png": "[encoded data removed]",
      "text/plain": [
       "<Figure size 640x480 with 1 Axes>"
      ]
     },
     "metadata": {},
     "output_type": "display_data"
    },
    {
     "data": {
      "image/png": "[encoded data removed]",
      "text/plain": [
       "<Figure size 640x480 with 1 Axes>"
      ]
     },
     "metadata": {},
     "output_type": "display_data"
    },
    {
     "data": {
      "image/png": "[encoded data removed]",
      "text/plain": [
       "<Figure size 640x480 with 1 Axes>"
      ]
     },
     "metadata": {},
     "output_type": "display_data"
    },
    {
     "data": {
      "image/png": "[encoded data removed]",
      "text/plain": [
       "<Figure size 640x480 with 1 Axes>"
      ]
     },
     "metadata": {},
     "output_type": "display_data"
    },
    {
     "data": {
      "image/png": "[encoded data removed]",
      "text/plain": [
       "<Figure size 640x480 with 1 Axes>"
      ]
     },
     "metadata": {},
     "output_type": "display_data"
    },
    {
     "data": {
      "image/png": "[encoded data removed]",
      "text/plain": [
       "<Figure size 640x480 with 1 Axes>"
      ]
     },
     "metadata": {},
     "output_type": "display_data"
    },
    {
     "data": {
      "image/png": "[encoded data removed]",
      "text/plain": [
       "<Figure size 640x480 with 1 Axes>"
      ]
     },
     "metadata": {},
     "output_type": "display_data"
    },
    {
     "data": {
      "image/png": "[encoded data removed]",
      "text/plain": [
       "<Figure size 640x480 with 1 Axes>"
      ]
     },
     "metadata": {},
     "output_type": "display_data"
    },
    {
     "data": {
      "image/png": "[encoded data removed]",
      "text/plain": [
       "<Figure size 640x480 with 1 Axes>"
      ]
     },
     "metadata": {},
     "output_type": "display_data"
    },
    {
     "data": {
      "image/png": "[encoded data removed]",
      "text/plain": [
       "<Figure size 640x480 with 1 Axes>"
      ]
     },
     "metadata": {},
     "output_type": "display_data"
    },
    {
     "data": {
      "image/png": "[encoded data removed]",
      "text/plain": [
       "<Figure size 640x480 with 1 Axes>"
      ]
     },
     "metadata": {},
     "output_type": "display_data"
    },
    {
     "data": {
      "image/png": "[encoded data removed]",
      "text/plain": [
       "<Figure size 640x480 with 1 Axes>"
      ]
     },
     "metadata": {},
     "output_type": "display_data"
    },
    {
     "data": {
      "image/png": "[encoded data removed]",
      "text/plain": [
       "<Figure size 640x480 with 1 Axes>"
      ]
     },
     "metadata": {},
     "output_type": "display_data"
    },
    {
     "data": {
      "image/png": "[encoded data removed]",
      "text/plain": [
       "<Figure size 640x480 with 1 Axes>"
      ]
     },
     "metadata": {},
     "output_type": "display_data"
    },
    {
     "data": {
      "image/png": "[encoded data removed]",
      "text/plain": [
       "<Figure size 640x480 with 1 Axes>"
      ]
     },
     "metadata": {},
     "output_type": "display_data"
    },
    {
     "data": {
      "image/png": "[encoded data removed]",
      "text/plain": [
       "<Figure size 640x480 with 1 Axes>"
      ]
     },
     "metadata": {},
     "output_type": "display_data"
    },
    {
     "data": {
      "image/png": "[encoded data removed]",
      "text/plain": [
       "<Figure size 640x480 with 1 Axes>"
      ]
     },
     "metadata": {},
     "output_type": "display_data"
    },
    {
     "data": {
      "image/png": "[encoded data removed]",
      "text/plain": [
       "<Figure size 640x480 with 1 Axes>"
      ]
     },
     "metadata": {},
     "output_type": "display_data"
    },
    {
     "data": {
      "image/png": "[encoded data removed]",
      "text/plain": [
       "<Figure size 640x480 with 1 Axes>"
      ]
     },
     "metadata": {},
     "output_type": "display_data"
    }
   ],
   "source": [
    "for fp in out[0]:\n",
    "    visial(torch.Tensor(npy.load(fp)))"
   ]
  },
  {
   "cell_type": "code",
   "execution_count": 6,
   "metadata": {},
   "outputs": [],
   "source": [
    "with open(\"output.txt\", 'w') as f:\n",
    "    for res in result:\n",
    "        f.write(res[0] + \" \" + str(res[1]) + \"\\n\")"
   ]
  },
  {
   "cell_type": "code",
   "execution_count": 7,
   "metadata": {},
   "outputs": [
    {
     "name": "stderr",
     "output_type": "stream",
     "text": [
      "100%|████████████████████████████████████████████████████████████████████| 938/938 [00:27<00:00, 33.98it/s]\n"
     ]
    },
    {
     "name": "stdout",
     "output_type": "stream",
     "text": [
      "Accuracy on the val set: 14 %\n"
     ]
    },
    {
     "name": "stderr",
     "output_type": "stream",
     "text": [
      "100%|████████████████████████████████████████████████████████████████████| 938/938 [00:29<00:00, 32.24it/s]\n"
     ]
    },
    {
     "name": "stdout",
     "output_type": "stream",
     "text": [
      "Accuracy on the val set: 17 %\n"
     ]
    },
    {
     "name": "stderr",
     "output_type": "stream",
     "text": [
      "100%|████████████████████████████████████████████████████████████████████| 938/938 [00:27<00:00, 34.68it/s]\n"
     ]
    },
    {
     "name": "stdout",
     "output_type": "stream",
     "text": [
      "Accuracy on the val set: 15 %\n"
     ]
    },
    {
     "name": "stderr",
     "output_type": "stream",
     "text": [
      "100%|████████████████████████████████████████████████████████████████████| 938/938 [00:27<00:00, 33.65it/s]\n"
     ]
    },
    {
     "name": "stdout",
     "output_type": "stream",
     "text": [
      "Accuracy on the val set: 21 %\n"
     ]
    },
    {
     "name": "stderr",
     "output_type": "stream",
     "text": [
      "100%|████████████████████████████████████████████████████████████████████| 938/938 [00:26<00:00, 35.25it/s]\n"
     ]
    },
    {
     "name": "stdout",
     "output_type": "stream",
     "text": [
      "Accuracy on the val set: 19 %\n"
     ]
    }
   ],
   "source": [
    "alg_fuz = FuzzyAlgorithm(shuffle=False)\n",
    "for epoch in range(epochs):\n",
    "    alg.train(train_loader)\n",
    "    wrong_pred,_ = alg.evaluate(val_loader)"
   ]
  },
  {
   "cell_type": "code",
   "execution_count": 11,
   "metadata": {},
   "outputs": [
    {
     "name": "stdout",
     "output_type": "stream",
     "text": [
      "0.7369166666666667\n"
     ]
    }
   ],
   "source": [
    "alg.model.eval()\n",
    "correct = total = 0\n",
    "test_loader = train_loader\n",
    "with torch.no_grad():\n",
    "    for data, labels in test_loader:\n",
    "        # data = reduce(data)\n",
    "        outputs = alg.model(data)\n",
    "        _, predicted = torch.max(outputs.data, 1)\n",
    "        # print(predicted, labels)\n",
    "        total += labels.size(0)\n",
    "        correct += (predicted == labels).sum().item()\n",
    "#         wrong_pred[0].append(data[predicted != labels])\n",
    "#         wrong_pred[1].append(predicted[predicted != labels])\n",
    "#         wrong_pred[2].append(labels[predicted != labels])\n",
    "accuracy = correct / total\n",
    "print(accuracy)"
   ]
  },
  {
   "cell_type": "code",
   "execution_count": 7,
   "metadata": {},
   "outputs": [],
   "source": [
    "train_dataset4IRM1 = train_dataset[::2]\n",
    "train_dataset4IRM2 = train_dataset[1::2]\n",
    "val_dataset4IRM = val_dataset\n",
    "\n",
    "train_loader4IRM1 = DataLoader(dataset=train_dataset4IRM1, batch_size=30000, shuffle=True)\n",
    "train_loader4IRM2 = DataLoader(dataset=train_dataset4IRM2, batch_size=30000, shuffle=True)\n",
    "val_loader = DataLoader(dataset=val_dataset, batch_size=100, shuffle=False)"
   ]
  },
  {
   "cell_type": "code",
   "execution_count": 8,
   "metadata": {},
   "outputs": [
    {
     "name": "stderr",
     "output_type": "stream",
     "text": [
      "  0%|▎                                                                                                                                                                          | 1/501 [00:01<10:35,  1.27s/it]"
     ]
    },
    {
     "name": "stdout",
     "output_type": "stream",
     "text": [
      "tensor([7, 7, 3, 1, 7, 3, 7, 7, 6, 3, 2, 2, 1, 7, 2, 1, 1, 7, 2, 1, 3, 1, 7, 8,\n",
      "        8, 2, 9, 3, 1, 8, 1, 0, 1, 7, 2, 3, 2, 2, 0, 1, 7, 3, 3, 3, 1, 6, 3, 3,\n",
      "        3, 3, 7, 0, 1, 1, 1, 1, 1, 3, 3, 8, 8, 1, 1, 1, 7, 7, 3, 1, 1, 8, 9, 9,\n",
      "        1, 1, 0, 1, 2, 8, 3, 8, 7, 2, 3, 9, 8, 1, 1, 9, 1, 9, 1, 1, 2, 7, 9, 7,\n",
      "        1, 7, 9, 6], device='cuda:0') tensor([3, 3, 3, 3, 3, 3, 3, 2, 2, 2, 2, 2, 2, 2, 2, 4, 4, 4, 4, 4, 4, 4, 4, 4,\n",
      "        4, 4, 4, 7, 7, 7, 7, 7, 7, 7, 7, 7, 7, 7, 7, 7, 7, 7, 7, 0, 0, 0, 0, 0,\n",
      "        0, 0, 5, 5, 5, 5, 5, 5, 5, 5, 5, 5, 5, 5, 9, 9, 9, 9, 9, 9, 9, 9, 9, 9,\n",
      "        9, 9, 9, 9, 9, 1, 1, 1, 1, 1, 1, 1, 1, 1, 1, 6, 6, 6, 6, 6, 6, 6, 6, 6,\n",
      "        6, 8, 8, 8], device='cuda:0')\n",
      "Accuracy on the val set: 11 %\n"
     ]
    },
    {
     "name": "stderr",
     "output_type": "stream",
     "text": [
      "  4%|███████▏                                                                                                                                                                  | 21/501 [00:13<04:57,  1.61it/s]"
     ]
    },
    {
     "name": "stdout",
     "output_type": "stream",
     "text": [
      "tensor([3, 1, 3, 7, 7, 3, 3, 4, 6, 3, 6, 7, 1, 1, 2, 3, 7, 3, 9, 1, 3, 7, 7, 2,\n",
      "        7, 7, 1, 3, 6, 2, 1, 7, 7, 7, 2, 4, 7, 3, 0, 3, 3, 1, 1, 4, 3, 4, 9, 9,\n",
      "        2, 3, 0, 1, 8, 1, 0, 2, 1, 2, 3, 8, 1, 0, 1, 1, 7, 2, 7, 1, 3, 1, 1, 8,\n",
      "        8, 1, 9, 2, 3, 1, 3, 8, 7, 6, 1, 1, 8, 1, 2, 7, 1, 3, 8, 7, 2, 7, 8, 7,\n",
      "        1, 7, 1, 7], device='cuda:0') tensor([3, 3, 3, 3, 3, 3, 3, 2, 2, 2, 2, 2, 2, 2, 2, 4, 4, 4, 4, 4, 4, 4, 4, 4,\n",
      "        4, 4, 4, 7, 7, 7, 7, 7, 7, 7, 7, 7, 7, 7, 7, 7, 7, 7, 7, 0, 0, 0, 0, 0,\n",
      "        0, 0, 5, 5, 5, 5, 5, 5, 5, 5, 5, 5, 5, 5, 9, 9, 9, 9, 9, 9, 9, 9, 9, 9,\n",
      "        9, 9, 9, 9, 9, 1, 1, 1, 1, 1, 1, 1, 1, 1, 1, 6, 6, 6, 6, 6, 6, 6, 6, 6,\n",
      "        6, 8, 8, 8], device='cuda:0')\n",
      "Accuracy on the val set: 14 %\n"
     ]
    },
    {
     "name": "stderr",
     "output_type": "stream",
     "text": [
      "  8%|█████████████▉                                                                                                                                                            | 41/501 [00:25<04:47,  1.60it/s]"
     ]
    },
    {
     "name": "stdout",
     "output_type": "stream",
     "text": [
      "tensor([3, 1, 3, 3, 7, 3, 1, 7, 7, 3, 1, 7, 1, 1, 1, 3, 3, 3, 0, 1, 3, 7, 3, 1,\n",
      "        7, 1, 1, 1, 1, 1, 1, 7, 7, 1, 2, 7, 1, 3, 1, 3, 1, 1, 1, 3, 3, 3, 2, 1,\n",
      "        1, 3, 0, 1, 1, 1, 0, 2, 1, 3, 1, 7, 1, 0, 1, 1, 7, 2, 1, 1, 3, 1, 1, 3,\n",
      "        9, 1, 3, 1, 1, 1, 3, 1, 7, 7, 1, 1, 1, 1, 2, 7, 1, 3, 1, 2, 7, 5, 8, 7,\n",
      "        1, 7, 1, 7], device='cuda:0') tensor([3, 3, 3, 3, 3, 3, 3, 2, 2, 2, 2, 2, 2, 2, 2, 4, 4, 4, 4, 4, 4, 4, 4, 4,\n",
      "        4, 4, 4, 7, 7, 7, 7, 7, 7, 7, 7, 7, 7, 7, 7, 7, 7, 7, 7, 0, 0, 0, 0, 0,\n",
      "        0, 0, 5, 5, 5, 5, 5, 5, 5, 5, 5, 5, 5, 5, 9, 9, 9, 9, 9, 9, 9, 9, 9, 9,\n",
      "        9, 9, 9, 9, 9, 1, 1, 1, 1, 1, 1, 1, 1, 1, 1, 6, 6, 6, 6, 6, 6, 6, 6, 6,\n",
      "        6, 8, 8, 8], device='cuda:0')\n",
      "Accuracy on the val set: 14 %\n"
     ]
    },
    {
     "name": "stderr",
     "output_type": "stream",
     "text": [
      " 12%|████████████████████▋                                                                                                                                                     | 61/501 [00:38<04:33,  1.61it/s]"
     ]
    },
    {
     "name": "stdout",
     "output_type": "stream",
     "text": [
      "tensor([3, 1, 9, 3, 7, 1, 1, 7, 1, 3, 1, 7, 1, 1, 1, 3, 3, 1, 0, 1, 3, 7, 3, 2,\n",
      "        7, 1, 1, 1, 1, 1, 1, 7, 1, 1, 2, 7, 1, 3, 1, 3, 3, 1, 1, 3, 3, 1, 9, 1,\n",
      "        1, 1, 0, 1, 1, 1, 0, 2, 1, 3, 1, 1, 1, 0, 1, 1, 7, 2, 1, 1, 3, 1, 1, 7,\n",
      "        9, 1, 3, 1, 1, 1, 3, 1, 7, 7, 1, 1, 1, 1, 0, 7, 1, 3, 1, 7, 7, 5, 8, 7,\n",
      "        1, 7, 1, 7], device='cuda:0') tensor([3, 3, 3, 3, 3, 3, 3, 2, 2, 2, 2, 2, 2, 2, 2, 4, 4, 4, 4, 4, 4, 4, 4, 4,\n",
      "        4, 4, 4, 7, 7, 7, 7, 7, 7, 7, 7, 7, 7, 7, 7, 7, 7, 7, 7, 0, 0, 0, 0, 0,\n",
      "        0, 0, 5, 5, 5, 5, 5, 5, 5, 5, 5, 5, 5, 5, 9, 9, 9, 9, 9, 9, 9, 9, 9, 9,\n",
      "        9, 9, 9, 9, 9, 1, 1, 1, 1, 1, 1, 1, 1, 1, 1, 6, 6, 6, 6, 6, 6, 6, 6, 6,\n",
      "        6, 8, 8, 8], device='cuda:0')\n",
      "Accuracy on the val set: 11 %\n"
     ]
    },
    {
     "name": "stderr",
     "output_type": "stream",
     "text": [
      " 16%|███████████████████████████▍                                                                                                                                              | 81/501 [00:51<04:31,  1.54it/s]"
     ]
    },
    {
     "name": "stdout",
     "output_type": "stream",
     "text": [
      "tensor([3, 1, 9, 3, 7, 1, 1, 7, 1, 3, 1, 7, 1, 1, 1, 3, 7, 1, 0, 1, 3, 7, 3, 2,\n",
      "        7, 1, 1, 1, 1, 1, 1, 7, 1, 1, 2, 7, 1, 3, 1, 3, 3, 1, 1, 4, 3, 4, 9, 1,\n",
      "        1, 1, 0, 1, 9, 1, 0, 2, 1, 3, 1, 1, 7, 0, 1, 1, 7, 2, 1, 1, 3, 1, 1, 7,\n",
      "        9, 1, 1, 1, 1, 1, 3, 1, 7, 7, 1, 1, 1, 1, 0, 7, 1, 3, 1, 7, 1, 7, 8, 7,\n",
      "        1, 7, 1, 7], device='cuda:0') tensor([3, 3, 3, 3, 3, 3, 3, 2, 2, 2, 2, 2, 2, 2, 2, 4, 4, 4, 4, 4, 4, 4, 4, 4,\n",
      "        4, 4, 4, 7, 7, 7, 7, 7, 7, 7, 7, 7, 7, 7, 7, 7, 7, 7, 7, 0, 0, 0, 0, 0,\n",
      "        0, 0, 5, 5, 5, 5, 5, 5, 5, 5, 5, 5, 5, 5, 9, 9, 9, 9, 9, 9, 9, 9, 9, 9,\n",
      "        9, 9, 9, 9, 9, 1, 1, 1, 1, 1, 1, 1, 1, 1, 1, 6, 6, 6, 6, 6, 6, 6, 6, 6,\n",
      "        6, 8, 8, 8], device='cuda:0')\n",
      "Accuracy on the val set: 11 %\n"
     ]
    },
    {
     "name": "stderr",
     "output_type": "stream",
     "text": [
      " 20%|██████████████████████████████████                                                                                                                                       | 101/501 [01:03<04:14,  1.57it/s]"
     ]
    },
    {
     "name": "stdout",
     "output_type": "stream",
     "text": [
      "tensor([3, 1, 9, 3, 7, 1, 1, 7, 1, 3, 1, 7, 1, 1, 1, 3, 7, 1, 0, 1, 3, 7, 3, 2,\n",
      "        7, 1, 1, 1, 1, 1, 1, 7, 1, 7, 2, 7, 1, 3, 1, 3, 3, 1, 1, 7, 3, 4, 9, 1,\n",
      "        1, 1, 0, 1, 9, 1, 0, 2, 1, 3, 3, 1, 7, 0, 1, 1, 7, 2, 1, 7, 3, 1, 1, 7,\n",
      "        9, 1, 1, 1, 1, 1, 3, 1, 7, 6, 1, 1, 1, 1, 7, 7, 1, 3, 1, 7, 1, 7, 1, 7,\n",
      "        1, 7, 1, 7], device='cuda:0') tensor([3, 3, 3, 3, 3, 3, 3, 2, 2, 2, 2, 2, 2, 2, 2, 4, 4, 4, 4, 4, 4, 4, 4, 4,\n",
      "        4, 4, 4, 7, 7, 7, 7, 7, 7, 7, 7, 7, 7, 7, 7, 7, 7, 7, 7, 0, 0, 0, 0, 0,\n",
      "        0, 0, 5, 5, 5, 5, 5, 5, 5, 5, 5, 5, 5, 5, 9, 9, 9, 9, 9, 9, 9, 9, 9, 9,\n",
      "        9, 9, 9, 9, 9, 1, 1, 1, 1, 1, 1, 1, 1, 1, 1, 6, 6, 6, 6, 6, 6, 6, 6, 6,\n",
      "        6, 8, 8, 8], device='cuda:0')\n",
      "Accuracy on the val set: 12 %\n"
     ]
    },
    {
     "name": "stderr",
     "output_type": "stream",
     "text": [
      " 24%|████████████████████████████████████████▊                                                                                                                                | 121/501 [01:16<03:53,  1.63it/s]"
     ]
    },
    {
     "name": "stdout",
     "output_type": "stream",
     "text": [
      "tensor([3, 1, 9, 3, 7, 2, 7, 7, 7, 3, 1, 7, 1, 1, 1, 3, 7, 1, 0, 1, 3, 7, 3, 2,\n",
      "        7, 1, 1, 1, 1, 1, 1, 7, 1, 7, 2, 7, 1, 3, 1, 3, 3, 1, 1, 7, 3, 1, 9, 1,\n",
      "        1, 1, 0, 1, 1, 1, 0, 2, 1, 3, 3, 7, 7, 0, 1, 1, 7, 2, 1, 7, 1, 1, 1, 7,\n",
      "        9, 1, 2, 1, 1, 1, 3, 1, 7, 6, 1, 1, 1, 1, 7, 7, 1, 3, 1, 7, 1, 7, 1, 7,\n",
      "        1, 7, 1, 7], device='cuda:0') tensor([3, 3, 3, 3, 3, 3, 3, 2, 2, 2, 2, 2, 2, 2, 2, 4, 4, 4, 4, 4, 4, 4, 4, 4,\n",
      "        4, 4, 4, 7, 7, 7, 7, 7, 7, 7, 7, 7, 7, 7, 7, 7, 7, 7, 7, 0, 0, 0, 0, 0,\n",
      "        0, 0, 5, 5, 5, 5, 5, 5, 5, 5, 5, 5, 5, 5, 9, 9, 9, 9, 9, 9, 9, 9, 9, 9,\n",
      "        9, 9, 9, 9, 9, 1, 1, 1, 1, 1, 1, 1, 1, 1, 1, 6, 6, 6, 6, 6, 6, 6, 6, 6,\n",
      "        6, 8, 8, 8], device='cuda:0')\n",
      "Accuracy on the val set: 12 %\n"
     ]
    },
    {
     "name": "stderr",
     "output_type": "stream",
     "text": [
      " 28%|███████████████████████████████████████████████▌                                                                                                                         | 141/501 [01:29<04:04,  1.47it/s]"
     ]
    },
    {
     "name": "stdout",
     "output_type": "stream",
     "text": [
      "tensor([3, 1, 9, 3, 7, 2, 7, 7, 7, 3, 1, 7, 1, 1, 1, 3, 7, 1, 0, 1, 3, 7, 3, 2,\n",
      "        7, 1, 1, 1, 1, 1, 1, 1, 1, 1, 2, 7, 1, 3, 1, 3, 1, 1, 1, 7, 3, 1, 9, 9,\n",
      "        1, 1, 0, 1, 1, 1, 1, 2, 1, 3, 1, 1, 7, 0, 1, 1, 7, 2, 1, 7, 1, 1, 1, 7,\n",
      "        9, 1, 2, 1, 1, 1, 3, 1, 7, 6, 1, 1, 1, 1, 7, 7, 1, 3, 1, 7, 1, 7, 1, 7,\n",
      "        2, 7, 1, 7], device='cuda:0') tensor([3, 3, 3, 3, 3, 3, 3, 2, 2, 2, 2, 2, 2, 2, 2, 4, 4, 4, 4, 4, 4, 4, 4, 4,\n",
      "        4, 4, 4, 7, 7, 7, 7, 7, 7, 7, 7, 7, 7, 7, 7, 7, 7, 7, 7, 0, 0, 0, 0, 0,\n",
      "        0, 0, 5, 5, 5, 5, 5, 5, 5, 5, 5, 5, 5, 5, 9, 9, 9, 9, 9, 9, 9, 9, 9, 9,\n",
      "        9, 9, 9, 9, 9, 1, 1, 1, 1, 1, 1, 1, 1, 1, 1, 6, 6, 6, 6, 6, 6, 6, 6, 6,\n",
      "        6, 8, 8, 8], device='cuda:0')\n",
      "Accuracy on the val set: 10 %\n"
     ]
    },
    {
     "name": "stderr",
     "output_type": "stream",
     "text": [
      " 32%|██████████████████████████████████████████████████████▎                                                                                                                  | 161/501 [01:41<03:48,  1.49it/s]"
     ]
    },
    {
     "name": "stdout",
     "output_type": "stream",
     "text": [
      "tensor([3, 1, 9, 3, 7, 2, 7, 7, 1, 3, 1, 7, 1, 1, 1, 1, 7, 1, 0, 1, 3, 7, 3, 2,\n",
      "        7, 1, 1, 1, 1, 1, 1, 1, 1, 1, 2, 7, 1, 3, 1, 3, 1, 1, 1, 7, 3, 1, 9, 1,\n",
      "        1, 3, 0, 1, 1, 1, 1, 1, 1, 3, 1, 7, 7, 0, 1, 1, 7, 2, 1, 7, 1, 1, 1, 7,\n",
      "        9, 1, 1, 1, 1, 1, 3, 1, 7, 6, 1, 1, 1, 1, 7, 7, 1, 3, 1, 7, 1, 7, 1, 7,\n",
      "        2, 7, 1, 7], device='cuda:0') tensor([3, 3, 3, 3, 3, 3, 3, 2, 2, 2, 2, 2, 2, 2, 2, 4, 4, 4, 4, 4, 4, 4, 4, 4,\n",
      "        4, 4, 4, 7, 7, 7, 7, 7, 7, 7, 7, 7, 7, 7, 7, 7, 7, 7, 7, 0, 0, 0, 0, 0,\n",
      "        0, 0, 5, 5, 5, 5, 5, 5, 5, 5, 5, 5, 5, 5, 9, 9, 9, 9, 9, 9, 9, 9, 9, 9,\n",
      "        9, 9, 9, 9, 9, 1, 1, 1, 1, 1, 1, 1, 1, 1, 1, 6, 6, 6, 6, 6, 6, 6, 6, 6,\n",
      "        6, 8, 8, 8], device='cuda:0')\n",
      "Accuracy on the val set: 10 %\n"
     ]
    },
    {
     "name": "stderr",
     "output_type": "stream",
     "text": [
      " 36%|█████████████████████████████████████████████████████████████                                                                                                            | 181/501 [01:55<03:35,  1.48it/s]"
     ]
    },
    {
     "name": "stdout",
     "output_type": "stream",
     "text": [
      "tensor([3, 1, 9, 3, 7, 2, 7, 7, 7, 3, 1, 7, 1, 1, 1, 1, 7, 1, 0, 1, 3, 7, 3, 2,\n",
      "        7, 1, 1, 1, 1, 1, 1, 1, 1, 7, 2, 7, 1, 3, 1, 3, 3, 1, 1, 7, 3, 1, 9, 1,\n",
      "        1, 3, 0, 1, 1, 1, 1, 1, 1, 3, 1, 7, 7, 0, 1, 1, 7, 2, 1, 7, 1, 1, 1, 7,\n",
      "        9, 1, 1, 1, 1, 1, 3, 1, 7, 6, 1, 1, 1, 1, 7, 7, 1, 3, 1, 7, 1, 7, 1, 7,\n",
      "        2, 7, 1, 7], device='cuda:0') tensor([3, 3, 3, 3, 3, 3, 3, 2, 2, 2, 2, 2, 2, 2, 2, 4, 4, 4, 4, 4, 4, 4, 4, 4,\n",
      "        4, 4, 4, 7, 7, 7, 7, 7, 7, 7, 7, 7, 7, 7, 7, 7, 7, 7, 7, 0, 0, 0, 0, 0,\n",
      "        0, 0, 5, 5, 5, 5, 5, 5, 5, 5, 5, 5, 5, 5, 9, 9, 9, 9, 9, 9, 9, 9, 9, 9,\n",
      "        9, 9, 9, 9, 9, 1, 1, 1, 1, 1, 1, 1, 1, 1, 1, 6, 6, 6, 6, 6, 6, 6, 6, 6,\n",
      "        6, 8, 8, 8], device='cuda:0')\n",
      "Accuracy on the val set: 11 %\n"
     ]
    },
    {
     "name": "stderr",
     "output_type": "stream",
     "text": [
      " 40%|███████████████████████████████████████████████████████████████████▊                                                                                                     | 201/501 [02:08<03:28,  1.44it/s]"
     ]
    },
    {
     "name": "stdout",
     "output_type": "stream",
     "text": [
      "tensor([3, 1, 2, 3, 7, 2, 7, 7, 7, 3, 1, 7, 1, 1, 1, 1, 7, 3, 0, 1, 3, 7, 3, 2,\n",
      "        7, 1, 1, 1, 1, 1, 1, 1, 1, 7, 2, 7, 1, 3, 1, 3, 3, 1, 1, 7, 1, 1, 2, 1,\n",
      "        1, 3, 0, 1, 1, 1, 1, 1, 1, 3, 1, 7, 7, 0, 1, 1, 7, 2, 1, 7, 1, 1, 1, 7,\n",
      "        9, 1, 1, 1, 1, 1, 3, 1, 7, 6, 1, 1, 1, 1, 7, 7, 1, 3, 1, 7, 1, 7, 1, 7,\n",
      "        2, 7, 1, 7], device='cuda:0') tensor([3, 3, 3, 3, 3, 3, 3, 2, 2, 2, 2, 2, 2, 2, 2, 4, 4, 4, 4, 4, 4, 4, 4, 4,\n",
      "        4, 4, 4, 7, 7, 7, 7, 7, 7, 7, 7, 7, 7, 7, 7, 7, 7, 7, 7, 0, 0, 0, 0, 0,\n",
      "        0, 0, 5, 5, 5, 5, 5, 5, 5, 5, 5, 5, 5, 5, 9, 9, 9, 9, 9, 9, 9, 9, 9, 9,\n",
      "        9, 9, 9, 9, 9, 1, 1, 1, 1, 1, 1, 1, 1, 1, 1, 6, 6, 6, 6, 6, 6, 6, 6, 6,\n",
      "        6, 8, 8, 8], device='cuda:0')\n",
      "Accuracy on the val set: 11 %\n"
     ]
    },
    {
     "name": "stderr",
     "output_type": "stream",
     "text": [
      " 44%|██████████████████████████████████████████████████████████████████████████▌                                                                                              | 221/501 [02:22<03:04,  1.52it/s]"
     ]
    },
    {
     "name": "stdout",
     "output_type": "stream",
     "text": [
      "tensor([3, 1, 9, 3, 7, 2, 7, 7, 7, 3, 1, 7, 1, 1, 1, 1, 7, 7, 0, 1, 3, 7, 3, 2,\n",
      "        7, 1, 1, 1, 1, 1, 1, 1, 1, 7, 2, 7, 1, 3, 1, 3, 3, 1, 1, 4, 1, 1, 2, 1,\n",
      "        1, 3, 0, 1, 1, 1, 1, 1, 1, 3, 1, 1, 7, 0, 1, 1, 7, 2, 1, 7, 1, 1, 1, 7,\n",
      "        9, 1, 1, 1, 1, 1, 1, 1, 7, 6, 1, 1, 1, 1, 7, 7, 1, 3, 1, 7, 1, 7, 1, 7,\n",
      "        2, 7, 1, 7], device='cuda:0') tensor([3, 3, 3, 3, 3, 3, 3, 2, 2, 2, 2, 2, 2, 2, 2, 4, 4, 4, 4, 4, 4, 4, 4, 4,\n",
      "        4, 4, 4, 7, 7, 7, 7, 7, 7, 7, 7, 7, 7, 7, 7, 7, 7, 7, 7, 0, 0, 0, 0, 0,\n",
      "        0, 0, 5, 5, 5, 5, 5, 5, 5, 5, 5, 5, 5, 5, 9, 9, 9, 9, 9, 9, 9, 9, 9, 9,\n",
      "        9, 9, 9, 9, 9, 1, 1, 1, 1, 1, 1, 1, 1, 1, 1, 6, 6, 6, 6, 6, 6, 6, 6, 6,\n",
      "        6, 8, 8, 8], device='cuda:0')\n",
      "Accuracy on the val set: 12 %\n"
     ]
    },
    {
     "name": "stderr",
     "output_type": "stream",
     "text": [
      " 48%|█████████████████████████████████████████████████████████████████████████████████▎                                                                                       | 241/501 [02:35<02:53,  1.50it/s]"
     ]
    },
    {
     "name": "stdout",
     "output_type": "stream",
     "text": [
      "tensor([3, 1, 9, 3, 7, 2, 7, 7, 7, 3, 1, 7, 1, 1, 1, 1, 7, 7, 0, 1, 3, 7, 7, 2,\n",
      "        7, 1, 1, 1, 1, 1, 1, 1, 1, 1, 2, 7, 1, 3, 1, 1, 3, 1, 1, 7, 1, 1, 2, 1,\n",
      "        1, 3, 0, 1, 1, 1, 1, 1, 1, 3, 1, 1, 7, 0, 1, 1, 7, 2, 1, 7, 3, 1, 1, 7,\n",
      "        9, 1, 1, 1, 1, 1, 1, 1, 7, 6, 1, 1, 1, 1, 7, 7, 1, 3, 1, 7, 1, 7, 1, 7,\n",
      "        2, 7, 1, 7], device='cuda:0') tensor([3, 3, 3, 3, 3, 3, 3, 2, 2, 2, 2, 2, 2, 2, 2, 4, 4, 4, 4, 4, 4, 4, 4, 4,\n",
      "        4, 4, 4, 7, 7, 7, 7, 7, 7, 7, 7, 7, 7, 7, 7, 7, 7, 7, 7, 0, 0, 0, 0, 0,\n",
      "        0, 0, 5, 5, 5, 5, 5, 5, 5, 5, 5, 5, 5, 5, 9, 9, 9, 9, 9, 9, 9, 9, 9, 9,\n",
      "        9, 9, 9, 9, 9, 1, 1, 1, 1, 1, 1, 1, 1, 1, 1, 6, 6, 6, 6, 6, 6, 6, 6, 6,\n",
      "        6, 8, 8, 8], device='cuda:0')\n",
      "Accuracy on the val set: 11 %\n"
     ]
    },
    {
     "name": "stderr",
     "output_type": "stream",
     "text": [
      " 52%|████████████████████████████████████████████████████████████████████████████████████████                                                                                 | 261/501 [02:49<02:42,  1.48it/s]"
     ]
    },
    {
     "name": "stdout",
     "output_type": "stream",
     "text": [
      "tensor([3, 1, 2, 3, 7, 2, 7, 7, 7, 3, 1, 7, 1, 1, 1, 1, 1, 1, 0, 1, 3, 7, 3, 2,\n",
      "        7, 1, 1, 1, 1, 2, 1, 1, 1, 7, 2, 7, 1, 3, 1, 1, 3, 1, 1, 7, 1, 1, 2, 1,\n",
      "        1, 3, 0, 1, 1, 1, 0, 1, 1, 3, 1, 1, 7, 0, 1, 1, 7, 2, 1, 7, 1, 1, 1, 7,\n",
      "        9, 1, 1, 1, 1, 1, 1, 1, 7, 6, 1, 1, 1, 1, 7, 7, 1, 3, 1, 7, 1, 7, 1, 7,\n",
      "        2, 7, 1, 7], device='cuda:0') tensor([3, 3, 3, 3, 3, 3, 3, 2, 2, 2, 2, 2, 2, 2, 2, 4, 4, 4, 4, 4, 4, 4, 4, 4,\n",
      "        4, 4, 4, 7, 7, 7, 7, 7, 7, 7, 7, 7, 7, 7, 7, 7, 7, 7, 7, 0, 0, 0, 0, 0,\n",
      "        0, 0, 5, 5, 5, 5, 5, 5, 5, 5, 5, 5, 5, 5, 9, 9, 9, 9, 9, 9, 9, 9, 9, 9,\n",
      "        9, 9, 9, 9, 9, 1, 1, 1, 1, 1, 1, 1, 1, 1, 1, 6, 6, 6, 6, 6, 6, 6, 6, 6,\n",
      "        6, 8, 8, 8], device='cuda:0')\n",
      "Accuracy on the val set: 12 %\n"
     ]
    },
    {
     "name": "stderr",
     "output_type": "stream",
     "text": [
      " 56%|██████████████████████████████████████████████████████████████████████████████████████████████▊                                                                          | 281/501 [03:03<02:30,  1.47it/s]"
     ]
    },
    {
     "name": "stdout",
     "output_type": "stream",
     "text": [
      "tensor([3, 1, 2, 3, 7, 2, 7, 7, 7, 3, 1, 7, 1, 1, 1, 1, 1, 1, 0, 1, 3, 7, 3, 1,\n",
      "        7, 1, 1, 1, 1, 1, 1, 1, 1, 7, 2, 7, 1, 3, 1, 1, 3, 1, 1, 7, 1, 1, 2, 7,\n",
      "        1, 3, 0, 1, 1, 1, 0, 2, 1, 3, 1, 1, 7, 0, 1, 1, 7, 2, 1, 7, 1, 1, 1, 7,\n",
      "        9, 1, 1, 1, 1, 1, 1, 1, 7, 6, 1, 1, 1, 1, 7, 7, 1, 3, 1, 2, 1, 7, 1, 7,\n",
      "        2, 7, 1, 7], device='cuda:0') tensor([3, 3, 3, 3, 3, 3, 3, 2, 2, 2, 2, 2, 2, 2, 2, 4, 4, 4, 4, 4, 4, 4, 4, 4,\n",
      "        4, 4, 4, 7, 7, 7, 7, 7, 7, 7, 7, 7, 7, 7, 7, 7, 7, 7, 7, 0, 0, 0, 0, 0,\n",
      "        0, 0, 5, 5, 5, 5, 5, 5, 5, 5, 5, 5, 5, 5, 9, 9, 9, 9, 9, 9, 9, 9, 9, 9,\n",
      "        9, 9, 9, 9, 9, 1, 1, 1, 1, 1, 1, 1, 1, 1, 1, 6, 6, 6, 6, 6, 6, 6, 6, 6,\n",
      "        6, 8, 8, 8], device='cuda:0')\n",
      "Accuracy on the val set: 12 %\n"
     ]
    },
    {
     "name": "stderr",
     "output_type": "stream",
     "text": [
      " 60%|█████████████████████████████████████████████████████████████████████████████████████████████████████▌                                                                   | 301/501 [03:16<02:15,  1.47it/s]"
     ]
    },
    {
     "name": "stdout",
     "output_type": "stream",
     "text": [
      "tensor([3, 1, 7, 7, 7, 7, 7, 7, 7, 3, 1, 7, 1, 1, 1, 1, 1, 7, 0, 1, 3, 7, 3, 1,\n",
      "        7, 1, 1, 1, 1, 1, 1, 1, 1, 7, 2, 7, 1, 1, 1, 1, 3, 1, 1, 7, 1, 1, 9, 1,\n",
      "        1, 1, 0, 1, 1, 1, 1, 2, 1, 3, 1, 7, 7, 0, 1, 1, 7, 2, 1, 7, 1, 1, 1, 7,\n",
      "        9, 1, 1, 1, 1, 1, 1, 1, 7, 6, 1, 1, 1, 1, 2, 7, 1, 3, 1, 2, 1, 7, 1, 7,\n",
      "        2, 7, 1, 7], device='cuda:0') tensor([3, 3, 3, 3, 3, 3, 3, 2, 2, 2, 2, 2, 2, 2, 2, 4, 4, 4, 4, 4, 4, 4, 4, 4,\n",
      "        4, 4, 4, 7, 7, 7, 7, 7, 7, 7, 7, 7, 7, 7, 7, 7, 7, 7, 7, 0, 0, 0, 0, 0,\n",
      "        0, 0, 5, 5, 5, 5, 5, 5, 5, 5, 5, 5, 5, 5, 9, 9, 9, 9, 9, 9, 9, 9, 9, 9,\n",
      "        9, 9, 9, 9, 9, 1, 1, 1, 1, 1, 1, 1, 1, 1, 1, 6, 6, 6, 6, 6, 6, 6, 6, 6,\n",
      "        6, 8, 8, 8], device='cuda:0')\n",
      "Accuracy on the val set: 11 %\n"
     ]
    },
    {
     "name": "stderr",
     "output_type": "stream",
     "text": [
      " 64%|████████████████████████████████████████████████████████████████████████████████████████████████████████████▎                                                            | 321/501 [03:30<02:10,  1.37it/s]"
     ]
    },
    {
     "name": "stdout",
     "output_type": "stream",
     "text": [
      "tensor([1, 1, 2, 7, 7, 2, 7, 7, 7, 3, 1, 7, 1, 1, 1, 1, 1, 7, 0, 1, 3, 7, 3, 1,\n",
      "        7, 1, 1, 1, 1, 1, 1, 1, 1, 7, 2, 7, 1, 1, 1, 1, 1, 1, 1, 7, 1, 1, 2, 1,\n",
      "        1, 1, 0, 1, 1, 1, 1, 2, 7, 3, 1, 7, 7, 0, 1, 1, 7, 2, 1, 7, 1, 1, 1, 7,\n",
      "        9, 7, 1, 1, 1, 1, 1, 1, 7, 6, 1, 1, 1, 1, 2, 7, 1, 3, 1, 7, 1, 7, 1, 7,\n",
      "        2, 7, 1, 7], device='cuda:0') tensor([3, 3, 3, 3, 3, 3, 3, 2, 2, 2, 2, 2, 2, 2, 2, 4, 4, 4, 4, 4, 4, 4, 4, 4,\n",
      "        4, 4, 4, 7, 7, 7, 7, 7, 7, 7, 7, 7, 7, 7, 7, 7, 7, 7, 7, 0, 0, 0, 0, 0,\n",
      "        0, 0, 5, 5, 5, 5, 5, 5, 5, 5, 5, 5, 5, 5, 9, 9, 9, 9, 9, 9, 9, 9, 9, 9,\n",
      "        9, 9, 9, 9, 9, 1, 1, 1, 1, 1, 1, 1, 1, 1, 1, 6, 6, 6, 6, 6, 6, 6, 6, 6,\n",
      "        6, 8, 8, 8], device='cuda:0')\n",
      "Accuracy on the val set: 10 %\n"
     ]
    },
    {
     "name": "stderr",
     "output_type": "stream",
     "text": [
      " 68%|███████████████████████████████████████████████████████████████████████████████████████████████████████████████████                                                      | 341/501 [03:42<01:37,  1.65it/s]"
     ]
    },
    {
     "name": "stdout",
     "output_type": "stream",
     "text": [
      "tensor([1, 1, 2, 7, 7, 2, 7, 7, 7, 3, 7, 7, 1, 1, 1, 1, 1, 7, 0, 1, 3, 7, 7, 1,\n",
      "        7, 1, 1, 1, 1, 2, 7, 1, 1, 7, 7, 7, 1, 1, 1, 1, 1, 1, 1, 7, 1, 1, 2, 1,\n",
      "        1, 3, 0, 1, 1, 1, 0, 2, 1, 3, 1, 7, 7, 0, 1, 1, 7, 2, 1, 7, 1, 1, 1, 7,\n",
      "        9, 1, 1, 1, 1, 1, 1, 1, 7, 6, 1, 1, 1, 1, 2, 7, 1, 3, 1, 2, 1, 7, 8, 7,\n",
      "        2, 7, 1, 7], device='cuda:0') tensor([3, 3, 3, 3, 3, 3, 3, 2, 2, 2, 2, 2, 2, 2, 2, 4, 4, 4, 4, 4, 4, 4, 4, 4,\n",
      "        4, 4, 4, 7, 7, 7, 7, 7, 7, 7, 7, 7, 7, 7, 7, 7, 7, 7, 7, 0, 0, 0, 0, 0,\n",
      "        0, 0, 5, 5, 5, 5, 5, 5, 5, 5, 5, 5, 5, 5, 9, 9, 9, 9, 9, 9, 9, 9, 9, 9,\n",
      "        9, 9, 9, 9, 9, 1, 1, 1, 1, 1, 1, 1, 1, 1, 1, 6, 6, 6, 6, 6, 6, 6, 6, 6,\n",
      "        6, 8, 8, 8], device='cuda:0')\n",
      "Accuracy on the val set: 12 %\n"
     ]
    },
    {
     "name": "stderr",
     "output_type": "stream",
     "text": [
      " 72%|█████████████████████████████████████████████████████████████████████████████████████████████████████████████████████████▊                                               | 361/501 [03:55<01:34,  1.48it/s]"
     ]
    },
    {
     "name": "stdout",
     "output_type": "stream",
     "text": [
      "tensor([1, 1, 7, 7, 7, 7, 1, 7, 7, 3, 7, 7, 1, 1, 1, 1, 1, 1, 0, 1, 3, 7, 7, 1,\n",
      "        7, 1, 1, 1, 1, 1, 7, 1, 1, 7, 7, 7, 1, 1, 1, 1, 1, 1, 1, 7, 1, 1, 2, 1,\n",
      "        1, 1, 0, 1, 1, 1, 0, 2, 1, 3, 1, 7, 7, 0, 1, 1, 7, 2, 1, 7, 1, 1, 1, 7,\n",
      "        9, 1, 1, 2, 1, 1, 1, 1, 7, 6, 1, 1, 1, 1, 7, 7, 1, 3, 1, 7, 1, 7, 1, 7,\n",
      "        2, 7, 1, 7], device='cuda:0') tensor([3, 3, 3, 3, 3, 3, 3, 2, 2, 2, 2, 2, 2, 2, 2, 4, 4, 4, 4, 4, 4, 4, 4, 4,\n",
      "        4, 4, 4, 7, 7, 7, 7, 7, 7, 7, 7, 7, 7, 7, 7, 7, 7, 7, 7, 0, 0, 0, 0, 0,\n",
      "        0, 0, 5, 5, 5, 5, 5, 5, 5, 5, 5, 5, 5, 5, 9, 9, 9, 9, 9, 9, 9, 9, 9, 9,\n",
      "        9, 9, 9, 9, 9, 1, 1, 1, 1, 1, 1, 1, 1, 1, 1, 6, 6, 6, 6, 6, 6, 6, 6, 6,\n",
      "        6, 8, 8, 8], device='cuda:0')\n",
      "Accuracy on the val set: 12 %\n"
     ]
    },
    {
     "name": "stderr",
     "output_type": "stream",
     "text": [
      " 76%|████████████████████████████████████████████████████████████████████████████████████████████████████████████████████████████████▌                                        | 381/501 [04:08<01:20,  1.48it/s]"
     ]
    },
    {
     "name": "stdout",
     "output_type": "stream",
     "text": [
      "tensor([1, 1, 7, 7, 7, 7, 1, 7, 7, 3, 7, 7, 1, 1, 1, 1, 7, 1, 0, 1, 3, 7, 7, 1,\n",
      "        7, 1, 1, 1, 1, 1, 7, 1, 1, 7, 2, 7, 1, 1, 1, 1, 1, 1, 1, 7, 1, 1, 2, 1,\n",
      "        1, 1, 0, 1, 1, 1, 0, 2, 1, 3, 1, 7, 7, 0, 1, 1, 7, 2, 1, 7, 1, 1, 1, 7,\n",
      "        9, 1, 1, 2, 1, 1, 1, 1, 7, 6, 1, 1, 1, 1, 7, 7, 1, 3, 1, 2, 1, 7, 1, 7,\n",
      "        2, 7, 1, 7], device='cuda:0') tensor([3, 3, 3, 3, 3, 3, 3, 2, 2, 2, 2, 2, 2, 2, 2, 4, 4, 4, 4, 4, 4, 4, 4, 4,\n",
      "        4, 4, 4, 7, 7, 7, 7, 7, 7, 7, 7, 7, 7, 7, 7, 7, 7, 7, 7, 0, 0, 0, 0, 0,\n",
      "        0, 0, 5, 5, 5, 5, 5, 5, 5, 5, 5, 5, 5, 5, 9, 9, 9, 9, 9, 9, 9, 9, 9, 9,\n",
      "        9, 9, 9, 9, 9, 1, 1, 1, 1, 1, 1, 1, 1, 1, 1, 6, 6, 6, 6, 6, 6, 6, 6, 6,\n",
      "        6, 8, 8, 8], device='cuda:0')\n",
      "Accuracy on the val set: 11 %\n"
     ]
    },
    {
     "name": "stderr",
     "output_type": "stream",
     "text": [
      " 80%|███████████████████████████████████████████████████████████████████████████████████████████████████████████████████████████████████████▎                                 | 401/501 [04:22<01:07,  1.48it/s]"
     ]
    },
    {
     "name": "stdout",
     "output_type": "stream",
     "text": [
      "tensor([1, 1, 7, 7, 7, 7, 1, 7, 7, 3, 7, 7, 1, 1, 1, 1, 7, 7, 0, 1, 3, 7, 7, 1,\n",
      "        7, 1, 1, 1, 1, 2, 7, 7, 1, 7, 7, 7, 1, 1, 1, 3, 1, 1, 1, 4, 1, 1, 1, 1,\n",
      "        1, 3, 0, 1, 1, 1, 0, 2, 9, 3, 1, 7, 7, 0, 1, 1, 7, 2, 1, 7, 1, 1, 1, 6,\n",
      "        9, 1, 1, 2, 1, 1, 1, 1, 7, 6, 1, 1, 1, 1, 7, 7, 1, 3, 1, 2, 1, 7, 1, 7,\n",
      "        2, 7, 1, 7], device='cuda:0') tensor([3, 3, 3, 3, 3, 3, 3, 2, 2, 2, 2, 2, 2, 2, 2, 4, 4, 4, 4, 4, 4, 4, 4, 4,\n",
      "        4, 4, 4, 7, 7, 7, 7, 7, 7, 7, 7, 7, 7, 7, 7, 7, 7, 7, 7, 0, 0, 0, 0, 0,\n",
      "        0, 0, 5, 5, 5, 5, 5, 5, 5, 5, 5, 5, 5, 5, 9, 9, 9, 9, 9, 9, 9, 9, 9, 9,\n",
      "        9, 9, 9, 9, 9, 1, 1, 1, 1, 1, 1, 1, 1, 1, 1, 6, 6, 6, 6, 6, 6, 6, 6, 6,\n",
      "        6, 8, 8, 8], device='cuda:0')\n",
      "Accuracy on the val set: 13 %\n"
     ]
    },
    {
     "name": "stderr",
     "output_type": "stream",
     "text": [
      " 84%|██████████████████████████████████████████████████████████████████████████████████████████████████████████████████████████████████████████████                           | 421/501 [04:35<00:53,  1.48it/s]"
     ]
    },
    {
     "name": "stdout",
     "output_type": "stream",
     "text": [
      "tensor([1, 1, 7, 7, 7, 7, 1, 7, 7, 3, 7, 7, 1, 1, 1, 1, 7, 7, 0, 1, 3, 7, 7, 1,\n",
      "        7, 1, 1, 1, 1, 2, 7, 7, 1, 7, 2, 7, 1, 1, 1, 3, 1, 1, 1, 7, 1, 1, 2, 1,\n",
      "        1, 3, 0, 1, 1, 1, 0, 2, 9, 3, 1, 7, 7, 0, 1, 1, 7, 2, 1, 7, 1, 1, 1, 6,\n",
      "        9, 1, 1, 2, 1, 1, 1, 1, 7, 7, 1, 1, 1, 1, 7, 7, 1, 3, 1, 2, 1, 7, 1, 7,\n",
      "        2, 7, 1, 7], device='cuda:0') tensor([3, 3, 3, 3, 3, 3, 3, 2, 2, 2, 2, 2, 2, 2, 2, 4, 4, 4, 4, 4, 4, 4, 4, 4,\n",
      "        4, 4, 4, 7, 7, 7, 7, 7, 7, 7, 7, 7, 7, 7, 7, 7, 7, 7, 7, 0, 0, 0, 0, 0,\n",
      "        0, 0, 5, 5, 5, 5, 5, 5, 5, 5, 5, 5, 5, 5, 9, 9, 9, 9, 9, 9, 9, 9, 9, 9,\n",
      "        9, 9, 9, 9, 9, 1, 1, 1, 1, 1, 1, 1, 1, 1, 1, 6, 6, 6, 6, 6, 6, 6, 6, 6,\n",
      "        6, 8, 8, 8], device='cuda:0')\n",
      "Accuracy on the val set: 12 %\n"
     ]
    },
    {
     "name": "stderr",
     "output_type": "stream",
     "text": [
      " 88%|████████████████████████████████████████████████████████████████████████████████████████████████████████████████████████████████████████████████████▊                    | 441/501 [04:49<00:40,  1.48it/s]"
     ]
    },
    {
     "name": "stdout",
     "output_type": "stream",
     "text": [
      "tensor([1, 1, 7, 7, 7, 7, 1, 7, 7, 3, 7, 7, 1, 1, 1, 3, 7, 7, 0, 1, 3, 7, 7, 1,\n",
      "        7, 1, 1, 1, 1, 1, 7, 7, 1, 7, 2, 7, 1, 1, 1, 1, 1, 1, 1, 7, 1, 1, 2, 1,\n",
      "        1, 3, 0, 1, 1, 1, 1, 9, 9, 3, 1, 7, 7, 0, 1, 1, 7, 2, 1, 7, 1, 1, 1, 7,\n",
      "        9, 1, 1, 2, 1, 1, 1, 1, 7, 7, 1, 1, 1, 1, 7, 7, 1, 3, 1, 2, 1, 7, 1, 7,\n",
      "        2, 7, 1, 7], device='cuda:0') tensor([3, 3, 3, 3, 3, 3, 3, 2, 2, 2, 2, 2, 2, 2, 2, 4, 4, 4, 4, 4, 4, 4, 4, 4,\n",
      "        4, 4, 4, 7, 7, 7, 7, 7, 7, 7, 7, 7, 7, 7, 7, 7, 7, 7, 7, 0, 0, 0, 0, 0,\n",
      "        0, 0, 5, 5, 5, 5, 5, 5, 5, 5, 5, 5, 5, 5, 9, 9, 9, 9, 9, 9, 9, 9, 9, 9,\n",
      "        9, 9, 9, 9, 9, 1, 1, 1, 1, 1, 1, 1, 1, 1, 1, 6, 6, 6, 6, 6, 6, 6, 6, 6,\n",
      "        6, 8, 8, 8], device='cuda:0')\n",
      "Accuracy on the val set: 12 %\n"
     ]
    },
    {
     "name": "stderr",
     "output_type": "stream",
     "text": [
      " 92%|███████████████████████████████████████████████████████████████████████████████████████████████████████████████████████████████████████████████████████████▌             | 461/501 [05:02<00:27,  1.47it/s]"
     ]
    },
    {
     "name": "stdout",
     "output_type": "stream",
     "text": [
      "tensor([1, 1, 7, 7, 7, 7, 1, 7, 1, 3, 1, 7, 1, 1, 1, 1, 7, 7, 0, 1, 3, 7, 1, 1,\n",
      "        7, 1, 1, 1, 1, 1, 7, 7, 1, 1, 2, 7, 1, 1, 1, 1, 1, 1, 1, 7, 1, 1, 2, 1,\n",
      "        1, 3, 0, 1, 1, 1, 1, 9, 9, 3, 1, 7, 7, 0, 1, 1, 7, 2, 1, 7, 1, 1, 1, 7,\n",
      "        9, 1, 1, 2, 1, 1, 1, 1, 7, 7, 1, 1, 1, 1, 7, 7, 1, 3, 1, 2, 1, 7, 1, 7,\n",
      "        2, 7, 1, 7], device='cuda:0') tensor([3, 3, 3, 3, 3, 3, 3, 2, 2, 2, 2, 2, 2, 2, 2, 4, 4, 4, 4, 4, 4, 4, 4, 4,\n",
      "        4, 4, 4, 7, 7, 7, 7, 7, 7, 7, 7, 7, 7, 7, 7, 7, 7, 7, 7, 0, 0, 0, 0, 0,\n",
      "        0, 0, 5, 5, 5, 5, 5, 5, 5, 5, 5, 5, 5, 5, 9, 9, 9, 9, 9, 9, 9, 9, 9, 9,\n",
      "        9, 9, 9, 9, 9, 1, 1, 1, 1, 1, 1, 1, 1, 1, 1, 6, 6, 6, 6, 6, 6, 6, 6, 6,\n",
      "        6, 8, 8, 8], device='cuda:0')\n",
      "Accuracy on the val set: 11 %\n"
     ]
    },
    {
     "name": "stderr",
     "output_type": "stream",
     "text": [
      " 96%|██████████████████████████████████████████████████████████████████████████████████████████████████████████████████████████████████████████████████████████████████▎      | 481/501 [05:16<00:13,  1.48it/s]"
     ]
    },
    {
     "name": "stdout",
     "output_type": "stream",
     "text": [
      "tensor([1, 1, 7, 7, 7, 7, 1, 7, 1, 3, 1, 7, 1, 1, 1, 1, 7, 1, 0, 1, 3, 7, 1, 1,\n",
      "        7, 1, 1, 1, 1, 1, 7, 7, 1, 1, 2, 7, 1, 1, 1, 1, 1, 1, 1, 9, 1, 1, 3, 1,\n",
      "        1, 3, 0, 1, 1, 1, 1, 2, 9, 3, 1, 7, 7, 0, 1, 1, 7, 2, 1, 7, 1, 1, 1, 7,\n",
      "        9, 1, 1, 2, 1, 1, 1, 1, 7, 7, 1, 1, 1, 1, 7, 7, 1, 3, 1, 2, 1, 7, 1, 7,\n",
      "        2, 7, 1, 7], device='cuda:0') tensor([3, 3, 3, 3, 3, 3, 3, 2, 2, 2, 2, 2, 2, 2, 2, 4, 4, 4, 4, 4, 4, 4, 4, 4,\n",
      "        4, 4, 4, 7, 7, 7, 7, 7, 7, 7, 7, 7, 7, 7, 7, 7, 7, 7, 7, 0, 0, 0, 0, 0,\n",
      "        0, 0, 5, 5, 5, 5, 5, 5, 5, 5, 5, 5, 5, 5, 9, 9, 9, 9, 9, 9, 9, 9, 9, 9,\n",
      "        9, 9, 9, 9, 9, 1, 1, 1, 1, 1, 1, 1, 1, 1, 1, 6, 6, 6, 6, 6, 6, 6, 6, 6,\n",
      "        6, 8, 8, 8], device='cuda:0')\n",
      "Accuracy on the val set: 11 %\n"
     ]
    },
    {
     "name": "stderr",
     "output_type": "stream",
     "text": [
      "100%|█████████████████████████████████████████████████████████████████████████████████████████████████████████████████████████████████████████████████████████████████████████| 501/501 [05:30<00:00,  1.52it/s]"
     ]
    },
    {
     "name": "stdout",
     "output_type": "stream",
     "text": [
      "tensor([1, 1, 7, 7, 7, 7, 1, 7, 1, 3, 1, 7, 1, 1, 1, 1, 7, 7, 0, 1, 3, 7, 7, 1,\n",
      "        7, 1, 1, 1, 1, 1, 7, 7, 1, 7, 2, 7, 1, 1, 1, 1, 1, 1, 1, 9, 1, 1, 3, 1,\n",
      "        1, 3, 7, 1, 1, 1, 1, 1, 1, 3, 1, 7, 7, 0, 1, 1, 7, 2, 1, 7, 1, 1, 1, 7,\n",
      "        9, 1, 1, 2, 1, 1, 1, 1, 7, 7, 1, 1, 1, 1, 7, 7, 1, 3, 1, 7, 1, 7, 1, 7,\n",
      "        2, 7, 1, 7], device='cuda:0') tensor([3, 3, 3, 3, 3, 3, 3, 2, 2, 2, 2, 2, 2, 2, 2, 4, 4, 4, 4, 4, 4, 4, 4, 4,\n",
      "        4, 4, 4, 7, 7, 7, 7, 7, 7, 7, 7, 7, 7, 7, 7, 7, 7, 7, 7, 0, 0, 0, 0, 0,\n",
      "        0, 0, 5, 5, 5, 5, 5, 5, 5, 5, 5, 5, 5, 5, 9, 9, 9, 9, 9, 9, 9, 9, 9, 9,\n",
      "        9, 9, 9, 9, 9, 1, 1, 1, 1, 1, 1, 1, 1, 1, 1, 6, 6, 6, 6, 6, 6, 6, 6, 6,\n",
      "        6, 8, 8, 8], device='cuda:0')\n",
      "Accuracy on the val set: 12 %\n"
     ]
    },
    {
     "name": "stderr",
     "output_type": "stream",
     "text": [
      "\n"
     ]
    }
   ],
   "source": [
    "loss_record = []\n",
    "acc_record = []\n",
    "alg_irm = IRM_MLP(penalty_weight=91483)\n",
    "for epoches in tqdm(range(alg_irm.steps)):\n",
    "    loss_record.extend(alg_irm.train_with_eval(train_loader4IRM1, train_loader4IRM2, val_loader))\n",
    "    if epoches % 20 == 0:\n",
    "        _, acc, _ = alg_irm.evaluate(val_loader)\n",
    "        acc_record.append(acc)"
   ]
  },
  {
   "cell_type": "code",
   "execution_count": 9,
   "metadata": {},
   "outputs": [
    {
     "data": {
      "text/plain": [
       "MLP(\n",
       "  (_main): Sequential(\n",
       "    (0): Dropout(p=0.3, inplace=False)\n",
       "    (1): Linear(in_features=7840, out_features=784, bias=True)\n",
       "    (2): ReLU(inplace=True)\n",
       "    (3): Linear(in_features=784, out_features=784, bias=True)\n",
       "    (4): ReLU(inplace=True)\n",
       "    (5): Linear(in_features=784, out_features=784, bias=True)\n",
       "    (6): ReLU(inplace=True)\n",
       "    (7): Linear(in_features=784, out_features=10, bias=True)\n",
       "  )\n",
       ")"
      ]
     },
     "execution_count": 9,
     "metadata": {},
     "output_type": "execute_result"
    }
   ],
   "source": [
    "alg_irm.model"
   ]
  },
  {
   "cell_type": "code",
   "execution_count": 34,
   "metadata": {},
   "outputs": [
    {
     "data": {
      "text/plain": [
       "1183"
      ]
     },
     "execution_count": 34,
     "metadata": {},
     "output_type": "execute_result"
    }
   ],
   "source": [
    "with open(\"output_tofu1.txt\", 'r') as f:\n",
    "    content = f.read()\n",
    "    \n",
    "result_tofu = {}\n",
    "for line in content.split(\"\\n\"):\n",
    "    temp = line.split()\n",
    "    result_tofu.update({temp[0]: temp[1]})\n",
    "\n",
    "result_fuzzy = {}\n",
    "with open(\"output_reduce.txt\", 'r') as f:\n",
    "    content = f.read()\n",
    "for line in content.split(\"\\n\"):\n",
    "    temp = line.split()\n",
    "    result_fuzzy.update({temp[0]: temp[1]})\n",
    "    \n",
    "cnt = 0\n",
    "for key in result_tofu.keys():\n",
    "    if result_tofu[key] != result_fuzzy[key]:\n",
    "        cnt += 1\n",
    "        \n",
    "cnt"
   ]
  },
  {
   "cell_type": "code",
   "execution_count": 18,
   "metadata": {},
   "outputs": [],
   "source": [
    "result_tofu = list(zip(result_tofu.keys(), result_tofu.values()))"
   ]
  },
  {
   "cell_type": "code",
   "execution_count": 22,
   "metadata": {},
   "outputs": [],
   "source": [
    "result_tofu = sorted(result_tofu, key=lambda x: int(x[0].split('.')[0]))\n",
    "with open(\"result.txt\", 'w') as f:\n",
    "    for res in result_tofu:\n",
    "        f.write(res[0] + \" \" + res[1] + \"\\n\")"
   ]
  }
 ],
 "metadata": {
  "kernelspec": {
   "display_name": "Python 3 (ipykernel)",
   "language": "python",
   "name": "python3"
  },
  "language_info": {
   "codemirror_mode": {
    "name": "ipython",
    "version": 3
   },
   "file_extension": ".py",
   "mimetype": "text/x-python",
   "name": "python",
   "nbconvert_exporter": "python",
   "pygments_lexer": "ipython3",
   "version": "3.9.13"
  }
 },
 "nbformat": 4,
 "nbformat_minor": 2
}
