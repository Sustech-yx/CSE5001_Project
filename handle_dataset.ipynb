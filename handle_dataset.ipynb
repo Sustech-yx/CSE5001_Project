{
 "cells": [
  {
   "cell_type": "code",
   "execution_count": 1,
   "metadata": {},
   "outputs": [],
   "source": [
    "from alg.simple import SimpleAlgorithm\n",
    "from data.dataset import MNISTDataset\n",
    "import torch\n",
    "from torch.utils.data import DataLoader\n",
    "import numpy as npy\n",
    "from tqdm import tqdm\n",
    "\n",
    "import torch\n",
    "import numpy as np\n",
    "import random\n",
    "import os"
   ]
  },
  {
   "cell_type": "code",
   "execution_count": 2,
   "metadata": {},
   "outputs": [],
   "source": [
    "train_dataset = MNISTDataset(\"./processed_data_new\", \"train\")\n",
    "train_loader = DataLoader(dataset=train_dataset, batch_size=64, shuffle=True, num_workers=4)\n",
    "alg = SimpleAlgorithm()"
   ]
  },
  {
   "cell_type": "code",
   "execution_count": 3,
   "metadata": {},
   "outputs": [
    {
     "name": "stdout",
     "output_type": "stream",
     "text": [
      "Accuracy on the val set: 73 %\n"
     ]
    }
   ],
   "source": [
    "alg.load(\"cnn_version1.pth\")\n",
    "wrong_data,_,correct_data = alg.evaluate(train_loader)"
   ]
  },
  {
   "cell_type": "code",
   "execution_count": 7,
   "metadata": {},
   "outputs": [],
   "source": [
    "data = torch.cat(correct_data[0])\n",
    "labels = torch.cat(correct_data[1])\n",
    "true_labels = torch.cat(correct_data[2])"
   ]
  },
  {
   "cell_type": "code",
   "execution_count": 11,
   "metadata": {},
   "outputs": [],
   "source": [
    "root_dir_new = 'processed_data_new/val'\n",
    "order = 0\n",
    "for fig, label, t_label in zip(data, labels, true_labels):\n",
    "    path_folder = os.path.join(root_dir_new,str(t_label.item()))\n",
    "    path_file = os.path.join(path_folder,str(order)+'.npy')\n",
    "    np.save(path_file,fig)\n",
    "    order += 1\n",
    "    "
   ]
  }
 ],
 "metadata": {
  "kernelspec": {
   "display_name": "AAI",
   "language": "python",
   "name": "python3"
  },
  "language_info": {
   "codemirror_mode": {
    "name": "ipython",
    "version": 3
   },
   "file_extension": ".py",
   "mimetype": "text/x-python",
   "name": "python",
   "nbconvert_exporter": "python",
   "pygments_lexer": "ipython3",
   "version": "3.9.18"
  }
 },
 "nbformat": 4,
 "nbformat_minor": 2
}
